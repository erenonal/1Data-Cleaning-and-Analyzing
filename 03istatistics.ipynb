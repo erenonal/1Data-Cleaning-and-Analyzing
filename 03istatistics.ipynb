{
 "cells": [
  {
   "cell_type": "markdown",
   "id": "optical-tokyo",
   "metadata": {},
   "source": [
    "# Veri Bilimi için İstatistik"
   ]
  },
  {
   "cell_type": "markdown",
   "id": "permanent-vampire",
   "metadata": {},
   "source": [
    "# Örnek Teorisi"
   ]
  },
  {
   "cell_type": "code",
   "execution_count": 3,
   "id": "african-omega",
   "metadata": {},
   "outputs": [],
   "source": [
    "import numpy as np"
   ]
  },
  {
   "cell_type": "code",
   "execution_count": 4,
   "id": "waiting-cradle",
   "metadata": {},
   "outputs": [],
   "source": [
    "populasyon = np.random.randint(0, 80, 10000)"
   ]
  },
  {
   "cell_type": "code",
   "execution_count": 5,
   "id": "played-perspective",
   "metadata": {},
   "outputs": [
    {
     "data": {
      "text/plain": [
       "array([23, 56, 61, 78, 41, 53,  4, 60, 36, 52])"
      ]
     },
     "execution_count": 5,
     "metadata": {},
     "output_type": "execute_result"
    }
   ],
   "source": [
    "populasyon[0:10]"
   ]
  },
  {
   "cell_type": "code",
   "execution_count": 6,
   "id": "broad-empire",
   "metadata": {},
   "outputs": [
    {
     "data": {
      "text/plain": [
       "array([21, 35, 44, 21, 59, 12,  4, 69, 31, 38])"
      ]
     },
     "execution_count": 6,
     "metadata": {},
     "output_type": "execute_result"
    }
   ],
   "source": [
    "#orneklem cekimi\n",
    "np.random.seed(115)\n",
    "orneklem = np.random.choice(a = populasyon, size = 100)\n",
    "orneklem[0:10]"
   ]
  },
  {
   "cell_type": "code",
   "execution_count": 7,
   "id": "virgin-congress",
   "metadata": {},
   "outputs": [
    {
     "data": {
      "text/plain": [
       "40.69"
      ]
     },
     "execution_count": 7,
     "metadata": {},
     "output_type": "execute_result"
    }
   ],
   "source": [
    "orneklem.mean()"
   ]
  },
  {
   "cell_type": "code",
   "execution_count": 8,
   "id": "christian-grade",
   "metadata": {},
   "outputs": [
    {
     "data": {
      "text/plain": [
       "39.7502"
      ]
     },
     "execution_count": 8,
     "metadata": {},
     "output_type": "execute_result"
    }
   ],
   "source": [
    "populasyon.mean()"
   ]
  },
  {
   "cell_type": "code",
   "execution_count": 9,
   "id": "pursuant-military",
   "metadata": {},
   "outputs": [],
   "source": [
    "#orneklem dağılımı"
   ]
  },
  {
   "cell_type": "code",
   "execution_count": 10,
   "id": "joined-skating",
   "metadata": {},
   "outputs": [],
   "source": [
    "np.random.seed(10)\n",
    "orneklem1 = np.random.choice(a = populasyon, size = 100)\n",
    "orneklem2 = np.random.choice(a = populasyon, size = 100)\n",
    "orneklem3 = np.random.choice(a = populasyon, size = 100)\n",
    "orneklem4 = np.random.choice(a = populasyon, size = 100)\n",
    "orneklem5 = np.random.choice(a = populasyon, size = 100)\n",
    "orneklem6 = np.random.choice(a = populasyon, size = 100)\n",
    "orneklem7 = np.random.choice(a = populasyon, size = 100)\n",
    "orneklem8 = np.random.choice(a = populasyon, size = 100)\n",
    "orneklem9 = np.random.choice(a = populasyon, size = 100)\n",
    "orneklem10 = np.random.choice(a = populasyon, size = 100)"
   ]
  },
  {
   "cell_type": "code",
   "execution_count": 11,
   "id": "running-advocacy",
   "metadata": {},
   "outputs": [
    {
     "data": {
      "text/plain": [
       "38.620000000000005"
      ]
     },
     "execution_count": 11,
     "metadata": {},
     "output_type": "execute_result"
    }
   ],
   "source": [
    "(orneklem1.mean() + orneklem2.mean() + orneklem3.mean() + orneklem4.mean() + orneklem5.mean() \n",
    "+ orneklem6.mean() + orneklem7.mean() + orneklem8.mean() + orneklem9.mean() + orneklem10.mean() )  / 10"
   ]
  },
  {
   "cell_type": "code",
   "execution_count": 12,
   "id": "serial-mistake",
   "metadata": {},
   "outputs": [
    {
     "data": {
      "text/plain": [
       "37.0"
      ]
     },
     "execution_count": 12,
     "metadata": {},
     "output_type": "execute_result"
    }
   ],
   "source": [
    "orneklem1.mean()"
   ]
  },
  {
   "cell_type": "code",
   "execution_count": 13,
   "id": "hybrid-richards",
   "metadata": {},
   "outputs": [
    {
     "data": {
      "text/plain": [
       "41.49"
      ]
     },
     "execution_count": 13,
     "metadata": {},
     "output_type": "execute_result"
    }
   ],
   "source": [
    "orneklem2.mean()"
   ]
  },
  {
   "cell_type": "markdown",
   "id": "discrete-audio",
   "metadata": {},
   "source": [
    "# Betimsel İstatistikler"
   ]
  },
  {
   "cell_type": "code",
   "execution_count": 14,
   "id": "induced-tribune",
   "metadata": {},
   "outputs": [
    {
     "data": {
      "text/html": [
       "<div>\n",
       "<style scoped>\n",
       "    .dataframe tbody tr th:only-of-type {\n",
       "        vertical-align: middle;\n",
       "    }\n",
       "\n",
       "    .dataframe tbody tr th {\n",
       "        vertical-align: top;\n",
       "    }\n",
       "\n",
       "    .dataframe thead th {\n",
       "        text-align: right;\n",
       "    }\n",
       "</style>\n",
       "<table border=\"1\" class=\"dataframe\">\n",
       "  <thead>\n",
       "    <tr style=\"text-align: right;\">\n",
       "      <th></th>\n",
       "      <th>total_bill</th>\n",
       "      <th>tip</th>\n",
       "      <th>sex</th>\n",
       "      <th>smoker</th>\n",
       "      <th>day</th>\n",
       "      <th>time</th>\n",
       "      <th>size</th>\n",
       "    </tr>\n",
       "  </thead>\n",
       "  <tbody>\n",
       "    <tr>\n",
       "      <th>0</th>\n",
       "      <td>16.99</td>\n",
       "      <td>1.01</td>\n",
       "      <td>Female</td>\n",
       "      <td>No</td>\n",
       "      <td>Sun</td>\n",
       "      <td>Dinner</td>\n",
       "      <td>2</td>\n",
       "    </tr>\n",
       "    <tr>\n",
       "      <th>1</th>\n",
       "      <td>10.34</td>\n",
       "      <td>1.66</td>\n",
       "      <td>Male</td>\n",
       "      <td>No</td>\n",
       "      <td>Sun</td>\n",
       "      <td>Dinner</td>\n",
       "      <td>3</td>\n",
       "    </tr>\n",
       "    <tr>\n",
       "      <th>2</th>\n",
       "      <td>21.01</td>\n",
       "      <td>3.50</td>\n",
       "      <td>Male</td>\n",
       "      <td>No</td>\n",
       "      <td>Sun</td>\n",
       "      <td>Dinner</td>\n",
       "      <td>3</td>\n",
       "    </tr>\n",
       "    <tr>\n",
       "      <th>3</th>\n",
       "      <td>23.68</td>\n",
       "      <td>3.31</td>\n",
       "      <td>Male</td>\n",
       "      <td>No</td>\n",
       "      <td>Sun</td>\n",
       "      <td>Dinner</td>\n",
       "      <td>2</td>\n",
       "    </tr>\n",
       "    <tr>\n",
       "      <th>4</th>\n",
       "      <td>24.59</td>\n",
       "      <td>3.61</td>\n",
       "      <td>Female</td>\n",
       "      <td>No</td>\n",
       "      <td>Sun</td>\n",
       "      <td>Dinner</td>\n",
       "      <td>4</td>\n",
       "    </tr>\n",
       "  </tbody>\n",
       "</table>\n",
       "</div>"
      ],
      "text/plain": [
       "   total_bill   tip     sex smoker  day    time  size\n",
       "0       16.99  1.01  Female     No  Sun  Dinner     2\n",
       "1       10.34  1.66    Male     No  Sun  Dinner     3\n",
       "2       21.01  3.50    Male     No  Sun  Dinner     3\n",
       "3       23.68  3.31    Male     No  Sun  Dinner     2\n",
       "4       24.59  3.61  Female     No  Sun  Dinner     4"
      ]
     },
     "execution_count": 14,
     "metadata": {},
     "output_type": "execute_result"
    }
   ],
   "source": [
    "import seaborn as sns\n",
    "tips = sns.load_dataset(\"tips\")\n",
    "df = tips.copy()\n",
    "df.head()"
   ]
  },
  {
   "cell_type": "code",
   "execution_count": 15,
   "id": "comic-internship",
   "metadata": {},
   "outputs": [
    {
     "data": {
      "text/html": [
       "<div>\n",
       "<style scoped>\n",
       "    .dataframe tbody tr th:only-of-type {\n",
       "        vertical-align: middle;\n",
       "    }\n",
       "\n",
       "    .dataframe tbody tr th {\n",
       "        vertical-align: top;\n",
       "    }\n",
       "\n",
       "    .dataframe thead th {\n",
       "        text-align: right;\n",
       "    }\n",
       "</style>\n",
       "<table border=\"1\" class=\"dataframe\">\n",
       "  <thead>\n",
       "    <tr style=\"text-align: right;\">\n",
       "      <th></th>\n",
       "      <th>count</th>\n",
       "      <th>mean</th>\n",
       "      <th>std</th>\n",
       "      <th>min</th>\n",
       "      <th>25%</th>\n",
       "      <th>50%</th>\n",
       "      <th>75%</th>\n",
       "      <th>max</th>\n",
       "    </tr>\n",
       "  </thead>\n",
       "  <tbody>\n",
       "    <tr>\n",
       "      <th>total_bill</th>\n",
       "      <td>244.0</td>\n",
       "      <td>19.785943</td>\n",
       "      <td>8.902412</td>\n",
       "      <td>3.07</td>\n",
       "      <td>13.3475</td>\n",
       "      <td>17.795</td>\n",
       "      <td>24.1275</td>\n",
       "      <td>50.81</td>\n",
       "    </tr>\n",
       "    <tr>\n",
       "      <th>tip</th>\n",
       "      <td>244.0</td>\n",
       "      <td>2.998279</td>\n",
       "      <td>1.383638</td>\n",
       "      <td>1.00</td>\n",
       "      <td>2.0000</td>\n",
       "      <td>2.900</td>\n",
       "      <td>3.5625</td>\n",
       "      <td>10.00</td>\n",
       "    </tr>\n",
       "    <tr>\n",
       "      <th>size</th>\n",
       "      <td>244.0</td>\n",
       "      <td>2.569672</td>\n",
       "      <td>0.951100</td>\n",
       "      <td>1.00</td>\n",
       "      <td>2.0000</td>\n",
       "      <td>2.000</td>\n",
       "      <td>3.0000</td>\n",
       "      <td>6.00</td>\n",
       "    </tr>\n",
       "  </tbody>\n",
       "</table>\n",
       "</div>"
      ],
      "text/plain": [
       "            count       mean       std   min      25%     50%      75%    max\n",
       "total_bill  244.0  19.785943  8.902412  3.07  13.3475  17.795  24.1275  50.81\n",
       "tip         244.0   2.998279  1.383638  1.00   2.0000   2.900   3.5625  10.00\n",
       "size        244.0   2.569672  0.951100  1.00   2.0000   2.000   3.0000   6.00"
      ]
     },
     "execution_count": 15,
     "metadata": {},
     "output_type": "execute_result"
    }
   ],
   "source": [
    "df.describe().T"
   ]
  },
  {
   "cell_type": "code",
   "execution_count": 16,
   "id": "printable-nashville",
   "metadata": {},
   "outputs": [
    {
     "name": "stdout",
     "output_type": "stream",
     "text": [
      "Requirement already satisfied: researchpy in /home/eren/anaconda3/lib/python3.7/site-packages (0.2.3)\n",
      "Requirement already satisfied: numpy in /home/eren/anaconda3/lib/python3.7/site-packages (from researchpy) (1.19.2)\n",
      "Requirement already satisfied: statsmodels in /home/eren/anaconda3/lib/python3.7/site-packages (from researchpy) (0.12.1)\n",
      "Requirement already satisfied: scipy in /home/eren/anaconda3/lib/python3.7/site-packages (from researchpy) (1.5.2)\n",
      "Requirement already satisfied: pandas in /home/eren/anaconda3/lib/python3.7/site-packages (from researchpy) (1.2.1)\n",
      "Requirement already satisfied: python-dateutil>=2.7.3 in /home/eren/anaconda3/lib/python3.7/site-packages (from pandas->researchpy) (2.8.1)\n",
      "Requirement already satisfied: pytz>=2017.3 in /home/eren/anaconda3/lib/python3.7/site-packages (from pandas->researchpy) (2021.1)\n",
      "Requirement already satisfied: six>=1.5 in /home/eren/anaconda3/lib/python3.7/site-packages (from python-dateutil>=2.7.3->pandas->researchpy) (1.15.0)\n",
      "Requirement already satisfied: patsy>=0.5 in /home/eren/anaconda3/lib/python3.7/site-packages (from statsmodels->researchpy) (0.5.1)\n"
     ]
    }
   ],
   "source": [
    "!pip install researchpy\n",
    "import researchpy as rp"
   ]
  },
  {
   "cell_type": "code",
   "execution_count": 17,
   "id": "parental-vegetable",
   "metadata": {},
   "outputs": [
    {
     "name": "stdout",
     "output_type": "stream",
     "text": [
      "\n",
      "\n"
     ]
    },
    {
     "data": {
      "text/html": [
       "<div>\n",
       "<style scoped>\n",
       "    .dataframe tbody tr th:only-of-type {\n",
       "        vertical-align: middle;\n",
       "    }\n",
       "\n",
       "    .dataframe tbody tr th {\n",
       "        vertical-align: top;\n",
       "    }\n",
       "\n",
       "    .dataframe thead th {\n",
       "        text-align: right;\n",
       "    }\n",
       "</style>\n",
       "<table border=\"1\" class=\"dataframe\">\n",
       "  <thead>\n",
       "    <tr style=\"text-align: right;\">\n",
       "      <th></th>\n",
       "      <th>Variable</th>\n",
       "      <th>N</th>\n",
       "      <th>Mean</th>\n",
       "      <th>SD</th>\n",
       "      <th>SE</th>\n",
       "      <th>95% Conf.</th>\n",
       "      <th>Interval</th>\n",
       "    </tr>\n",
       "  </thead>\n",
       "  <tbody>\n",
       "    <tr>\n",
       "      <th>0</th>\n",
       "      <td>total_bill</td>\n",
       "      <td>244.0</td>\n",
       "      <td>19.7859</td>\n",
       "      <td>8.9024</td>\n",
       "      <td>0.5699</td>\n",
       "      <td>18.6633</td>\n",
       "      <td>20.9086</td>\n",
       "    </tr>\n",
       "    <tr>\n",
       "      <th>1</th>\n",
       "      <td>tip</td>\n",
       "      <td>244.0</td>\n",
       "      <td>2.9983</td>\n",
       "      <td>1.3836</td>\n",
       "      <td>0.0886</td>\n",
       "      <td>2.8238</td>\n",
       "      <td>3.1728</td>\n",
       "    </tr>\n",
       "    <tr>\n",
       "      <th>2</th>\n",
       "      <td>size</td>\n",
       "      <td>244.0</td>\n",
       "      <td>2.5697</td>\n",
       "      <td>0.9511</td>\n",
       "      <td>0.0609</td>\n",
       "      <td>2.4497</td>\n",
       "      <td>2.6896</td>\n",
       "    </tr>\n",
       "  </tbody>\n",
       "</table>\n",
       "</div>"
      ],
      "text/plain": [
       "     Variable      N     Mean      SD      SE  95% Conf.  Interval\n",
       "0  total_bill  244.0  19.7859  8.9024  0.5699    18.6633   20.9086\n",
       "1         tip  244.0   2.9983  1.3836  0.0886     2.8238    3.1728\n",
       "2        size  244.0   2.5697  0.9511  0.0609     2.4497    2.6896"
      ]
     },
     "execution_count": 17,
     "metadata": {},
     "output_type": "execute_result"
    }
   ],
   "source": [
    "rp.summary_cont(df[[\"total_bill\",\"tip\",\"size\"]])"
   ]
  },
  {
   "cell_type": "code",
   "execution_count": 18,
   "id": "affected-manufacturer",
   "metadata": {},
   "outputs": [
    {
     "data": {
      "text/html": [
       "<div>\n",
       "<style scoped>\n",
       "    .dataframe tbody tr th:only-of-type {\n",
       "        vertical-align: middle;\n",
       "    }\n",
       "\n",
       "    .dataframe tbody tr th {\n",
       "        vertical-align: top;\n",
       "    }\n",
       "\n",
       "    .dataframe thead th {\n",
       "        text-align: right;\n",
       "    }\n",
       "</style>\n",
       "<table border=\"1\" class=\"dataframe\">\n",
       "  <thead>\n",
       "    <tr style=\"text-align: right;\">\n",
       "      <th></th>\n",
       "      <th>Variable</th>\n",
       "      <th>Outcome</th>\n",
       "      <th>Count</th>\n",
       "      <th>Percent</th>\n",
       "    </tr>\n",
       "  </thead>\n",
       "  <tbody>\n",
       "    <tr>\n",
       "      <th>0</th>\n",
       "      <td>sex</td>\n",
       "      <td>Male</td>\n",
       "      <td>157</td>\n",
       "      <td>64.34</td>\n",
       "    </tr>\n",
       "    <tr>\n",
       "      <th>1</th>\n",
       "      <td></td>\n",
       "      <td>Female</td>\n",
       "      <td>87</td>\n",
       "      <td>35.66</td>\n",
       "    </tr>\n",
       "    <tr>\n",
       "      <th>2</th>\n",
       "      <td>smoker</td>\n",
       "      <td>No</td>\n",
       "      <td>151</td>\n",
       "      <td>61.89</td>\n",
       "    </tr>\n",
       "    <tr>\n",
       "      <th>3</th>\n",
       "      <td></td>\n",
       "      <td>Yes</td>\n",
       "      <td>93</td>\n",
       "      <td>38.11</td>\n",
       "    </tr>\n",
       "    <tr>\n",
       "      <th>4</th>\n",
       "      <td>day</td>\n",
       "      <td>Sat</td>\n",
       "      <td>87</td>\n",
       "      <td>35.66</td>\n",
       "    </tr>\n",
       "    <tr>\n",
       "      <th>5</th>\n",
       "      <td></td>\n",
       "      <td>Sun</td>\n",
       "      <td>76</td>\n",
       "      <td>31.15</td>\n",
       "    </tr>\n",
       "    <tr>\n",
       "      <th>6</th>\n",
       "      <td></td>\n",
       "      <td>Thur</td>\n",
       "      <td>62</td>\n",
       "      <td>25.41</td>\n",
       "    </tr>\n",
       "    <tr>\n",
       "      <th>7</th>\n",
       "      <td></td>\n",
       "      <td>Fri</td>\n",
       "      <td>19</td>\n",
       "      <td>7.79</td>\n",
       "    </tr>\n",
       "  </tbody>\n",
       "</table>\n",
       "</div>"
      ],
      "text/plain": [
       "  Variable Outcome  Count  Percent\n",
       "0      sex    Male    157    64.34\n",
       "1           Female     87    35.66\n",
       "2   smoker      No    151    61.89\n",
       "3              Yes     93    38.11\n",
       "4      day     Sat     87    35.66\n",
       "5              Sun     76    31.15\n",
       "6             Thur     62    25.41\n",
       "7              Fri     19     7.79"
      ]
     },
     "execution_count": 18,
     "metadata": {},
     "output_type": "execute_result"
    }
   ],
   "source": [
    "rp.summary_cat(df[[\"sex\",\"smoker\",\"day\"]])"
   ]
  },
  {
   "cell_type": "code",
   "execution_count": 19,
   "id": "peripheral-queensland",
   "metadata": {},
   "outputs": [
    {
     "data": {
      "text/html": [
       "<div>\n",
       "<style scoped>\n",
       "    .dataframe tbody tr th:only-of-type {\n",
       "        vertical-align: middle;\n",
       "    }\n",
       "\n",
       "    .dataframe tbody tr th {\n",
       "        vertical-align: top;\n",
       "    }\n",
       "\n",
       "    .dataframe thead th {\n",
       "        text-align: right;\n",
       "    }\n",
       "</style>\n",
       "<table border=\"1\" class=\"dataframe\">\n",
       "  <thead>\n",
       "    <tr style=\"text-align: right;\">\n",
       "      <th></th>\n",
       "      <th>tip</th>\n",
       "      <th>total_bill</th>\n",
       "    </tr>\n",
       "  </thead>\n",
       "  <tbody>\n",
       "    <tr>\n",
       "      <th>tip</th>\n",
       "      <td>1.914455</td>\n",
       "      <td>8.323502</td>\n",
       "    </tr>\n",
       "    <tr>\n",
       "      <th>total_bill</th>\n",
       "      <td>8.323502</td>\n",
       "      <td>79.252939</td>\n",
       "    </tr>\n",
       "  </tbody>\n",
       "</table>\n",
       "</div>"
      ],
      "text/plain": [
       "                 tip  total_bill\n",
       "tip         1.914455    8.323502\n",
       "total_bill  8.323502   79.252939"
      ]
     },
     "execution_count": 19,
     "metadata": {},
     "output_type": "execute_result"
    }
   ],
   "source": [
    "df[[\"tip\",\"total_bill\"]].cov()"
   ]
  },
  {
   "cell_type": "code",
   "execution_count": 20,
   "id": "material-potato",
   "metadata": {},
   "outputs": [
    {
     "data": {
      "text/html": [
       "<div>\n",
       "<style scoped>\n",
       "    .dataframe tbody tr th:only-of-type {\n",
       "        vertical-align: middle;\n",
       "    }\n",
       "\n",
       "    .dataframe tbody tr th {\n",
       "        vertical-align: top;\n",
       "    }\n",
       "\n",
       "    .dataframe thead th {\n",
       "        text-align: right;\n",
       "    }\n",
       "</style>\n",
       "<table border=\"1\" class=\"dataframe\">\n",
       "  <thead>\n",
       "    <tr style=\"text-align: right;\">\n",
       "      <th></th>\n",
       "      <th>tip</th>\n",
       "      <th>total_bill</th>\n",
       "    </tr>\n",
       "  </thead>\n",
       "  <tbody>\n",
       "    <tr>\n",
       "      <th>tip</th>\n",
       "      <td>1.000000</td>\n",
       "      <td>0.675734</td>\n",
       "    </tr>\n",
       "    <tr>\n",
       "      <th>total_bill</th>\n",
       "      <td>0.675734</td>\n",
       "      <td>1.000000</td>\n",
       "    </tr>\n",
       "  </tbody>\n",
       "</table>\n",
       "</div>"
      ],
      "text/plain": [
       "                 tip  total_bill\n",
       "tip         1.000000    0.675734\n",
       "total_bill  0.675734    1.000000"
      ]
     },
     "execution_count": 20,
     "metadata": {},
     "output_type": "execute_result"
    }
   ],
   "source": [
    "df[[\"tip\",\"total_bill\"]].corr()"
   ]
  },
  {
   "cell_type": "markdown",
   "id": "inclusive-poverty",
   "metadata": {},
   "source": [
    "# İş Uygulaması: Fiyat Stratejisi Karar Destek"
   ]
  },
  {
   "cell_type": "code",
   "execution_count": 21,
   "id": "conservative-brand",
   "metadata": {},
   "outputs": [],
   "source": [
    "import numpy as np\n",
    "fiyatlar = np.random.randint(10,110, 1000)"
   ]
  },
  {
   "cell_type": "code",
   "execution_count": 22,
   "id": "aware-cookbook",
   "metadata": {},
   "outputs": [
    {
     "data": {
      "text/plain": [
       "58.492"
      ]
     },
     "execution_count": 22,
     "metadata": {},
     "output_type": "execute_result"
    }
   ],
   "source": [
    "fiyatlar.mean()"
   ]
  },
  {
   "cell_type": "code",
   "execution_count": 23,
   "id": "russian-figure",
   "metadata": {},
   "outputs": [],
   "source": [
    "import statsmodels.stats.api as sms"
   ]
  },
  {
   "cell_type": "code",
   "execution_count": 24,
   "id": "patent-qualification",
   "metadata": {},
   "outputs": [
    {
     "data": {
      "text/plain": [
       "(56.67953887736034, 60.30446112263965)"
      ]
     },
     "execution_count": 24,
     "metadata": {},
     "output_type": "execute_result"
    }
   ],
   "source": [
    "sms.DescrStatsW(fiyatlar).tconfint_mean()"
   ]
  },
  {
   "cell_type": "code",
   "execution_count": 25,
   "id": "aboriginal-riverside",
   "metadata": {},
   "outputs": [],
   "source": [
    "import numpy as np \n",
    "fiyatlar = np.random.randint(10,110,1000)\n"
   ]
  },
  {
   "cell_type": "code",
   "execution_count": 26,
   "id": "introductory-strip",
   "metadata": {},
   "outputs": [
    {
     "data": {
      "text/plain": [
       "60.317"
      ]
     },
     "execution_count": 26,
     "metadata": {},
     "output_type": "execute_result"
    }
   ],
   "source": [
    "fiyatlar.mean()"
   ]
  },
  {
   "cell_type": "code",
   "execution_count": 27,
   "id": "assigned-anxiety",
   "metadata": {},
   "outputs": [],
   "source": [
    "import statsmodels.stats.api as sms"
   ]
  },
  {
   "cell_type": "code",
   "execution_count": 28,
   "id": "assumed-adapter",
   "metadata": {},
   "outputs": [
    {
     "data": {
      "text/plain": [
       "(58.54670439203609, 62.08729560796391)"
      ]
     },
     "execution_count": 28,
     "metadata": {},
     "output_type": "execute_result"
    }
   ],
   "source": [
    "sms.DescrStatsW(fiyatlar).tconfint_mean()"
   ]
  },
  {
   "cell_type": "markdown",
   "id": "affiliated-honduras",
   "metadata": {},
   "source": [
    "# Olasılık Dağılımları"
   ]
  },
  {
   "cell_type": "markdown",
   "id": "polyphonic-belly",
   "metadata": {},
   "source": [
    "${\\displaystyle f(k;p)=p^{k}(1-p)^{1-k}\\quad {\\text{for }}k\\in \\{0,1\\}}$\n",
    "\n",
    "\n",
    "${\\displaystyle \\operatorname {E} \\left(X\\right)=p}$\n",
    "\n",
    "$\\operatorname {Var} [X]=pq=p(1-p)$\n",
    "##### ilgil  olayın  gerçekleşmesi  çarpı  gerçekleşmeme  olasılığı(varyans)\n",
    "##### P ilgili olay, x olayın gerçekleşme ihtimali\n",
    "##### Var o merkez etrafındaki dağılımı ifade eder"
   ]
  },
  {
   "cell_type": "code",
   "execution_count": 29,
   "id": "dominant-glasgow",
   "metadata": {},
   "outputs": [],
   "source": [
    "from scipy.stats import bernoulli"
   ]
  },
  {
   "cell_type": "code",
   "execution_count": 30,
   "id": "searching-fabric",
   "metadata": {},
   "outputs": [],
   "source": [
    "p = 0.6\n",
    "# tura gelme olasılığını 0.6 olduğunu biliyoruz. aşğıda da tura gelme olasılığı ile ilgilnediğimiz için  k =1 dedik.\n",
    "# k zaten yukardaki formülde de görüldüğü üzere 0 yada bir değerini alabilir yani olayın gerçekleşip gerçekleşmediği durumu."
   ]
  },
  {
   "cell_type": "code",
   "execution_count": 31,
   "id": "processed-orientation",
   "metadata": {},
   "outputs": [
    {
     "data": {
      "text/plain": [
       "0.6"
      ]
     },
     "execution_count": 31,
     "metadata": {},
     "output_type": "execute_result"
    }
   ],
   "source": [
    "rv = bernoulli(p)\n",
    "rv.pmf(k = 1)\n",
    "# probabilty mass functions(olasılık kütle fonksiyonu kısaltması pmf)"
   ]
  },
  {
   "cell_type": "code",
   "execution_count": 32,
   "id": "continent-tension",
   "metadata": {},
   "outputs": [],
   "source": [
    "#yukarda hesapladığımız yazı turada tura gelme olasılığının 0.6 olduğunu biliyoruz k ya ona göre 1 değerini veriyoruz. k = 0 dersek de yazı gelme olasılığınıı hesaplar."
   ]
  },
  {
   "cell_type": "code",
   "execution_count": 33,
   "id": "introductory-effect",
   "metadata": {},
   "outputs": [
    {
     "data": {
      "text/plain": [
       "0.4"
      ]
     },
     "execution_count": 33,
     "metadata": {},
     "output_type": "execute_result"
    }
   ],
   "source": [
    "rv.pmf(k = 0)"
   ]
  },
  {
   "cell_type": "markdown",
   "id": "essential-antigua",
   "metadata": {},
   "source": [
    "# BÜYÜK SAYILAR YASASI"
   ]
  },
  {
   "cell_type": "markdown",
   "id": "meaningful-tampa",
   "metadata": {},
   "source": [
    "**Bir rassal değişkenin uzun vadeli kararlılığını tanımlayan olasılık teoremidir.**"
   ]
  },
  {
   "cell_type": "code",
   "execution_count": 34,
   "id": "sonic-sheet",
   "metadata": {},
   "outputs": [
    {
     "name": "stdout",
     "output_type": "stream",
     "text": [
      "Atış sayısı: 2 --- Yazı Olasılığı : 50.0000\n",
      "Atış sayısı: 4 --- Yazı Olasılığı : 0.0000\n",
      "Atış sayısı: 8 --- Yazı Olasılığı : 62.5000\n",
      "Atış sayısı: 16 --- Yazı Olasılığı : 43.7500\n",
      "Atış sayısı: 32 --- Yazı Olasılığı : 46.8750\n",
      "Atış sayısı: 64 --- Yazı Olasılığı : 56.2500\n",
      "Atış sayısı: 128 --- Yazı Olasılığı : 50.7812\n",
      "Atış sayısı: 256 --- Yazı Olasılığı : 52.7344\n",
      "Atış sayısı: 512 --- Yazı Olasılığı : 52.9297\n",
      "Atış sayısı: 1024 --- Yazı Olasılığı : 50.1953\n",
      "Atış sayısı: 2048 --- Yazı Olasılığı : 48.5840\n",
      "Atış sayısı: 4096 --- Yazı Olasılığı : 49.4873\n",
      "Atış sayısı: 8192 --- Yazı Olasılığı : 49.5850\n",
      "Atış sayısı: 16384 --- Yazı Olasılığı : 49.9573\n",
      "Atış sayısı: 32768 --- Yazı Olasılığı : 50.0000\n",
      "Atış sayısı: 65536 --- Yazı Olasılığı : 49.6780\n",
      "Atış sayısı: 131072 --- Yazı Olasılığı : 49.9733\n",
      "Atış sayısı: 262144 --- Yazı Olasılığı : 50.1255\n",
      "Atış sayısı: 524288 --- Yazı Olasılığı : 50.0130\n",
      "Atış sayısı: 1048576 --- Yazı Olasılığı : 50.0900\n"
     ]
    }
   ],
   "source": [
    "import numpy as np\n",
    "rng = np.random.RandomState(123)\n",
    "for i in np.arange(1,21):\n",
    "    deney_sayisi = 2**i\n",
    "    yazi_turalar = rng.randint(0, 2, size = deney_sayisi)\n",
    "    yazi_olasiliklari = np.mean(yazi_turalar)\n",
    "    print(\"Atış sayısı:\", deney_sayisi,\"---\",\"Yazı Olasılığı : %.4f\" % (yazi_olasiliklari * 100))\n",
    "    "
   ]
  },
  {
   "cell_type": "code",
   "execution_count": 35,
   "id": "legal-lebanon",
   "metadata": {},
   "outputs": [],
   "source": [
    "# binlerce kez para atıldığında yazı tura gelme olasılığının değiştiğini görüyoruz.\n",
    "# Buna büyük sayılar yasası denir.\n",
    "# RandomState random alınan değerlerin sabit tutulması anlamına geliyor."
   ]
  },
  {
   "cell_type": "markdown",
   "id": "mexican-cyprus",
   "metadata": {},
   "source": [
    "## Binom Dağılımı\n",
    "\n",
    "### Bİnom dağılımı, bağımsız n deneme sonucu k başarılı olma olasılığı ile ilgilenildiğinde kullanılan dağılımdır."
   ]
  },
  {
   "cell_type": "markdown",
   "id": "smooth-private",
   "metadata": {},
   "source": [
    "${\\displaystyle f(k;n,p)={n \\choose k}p^{k}(1-p)^{n-k}}$, k = 0, 1, 2, ...,n\n",
    "\n",
    "\n",
    "${\\displaystyle \\operatorname {E} (X)=np}$\n",
    "\n",
    "\n",
    "${\\displaystyle \\operatorname {Var} (X)=np(1-p)}$\n",
    "\n",
    "##### n deneme sayısı, p olması beklenen olay, 1-p olmaması olasılığı\n"
   ]
  },
  {
   "cell_type": "markdown",
   "id": "altered-original",
   "metadata": {},
   "source": [
    "## =====İŞ UYGULAMASI=====\n",
    "### ======Tıklanma olasılığı hesaplama======\n",
    "### Problem\n",
    "##### Çeşitli mecralarda reklam veriliyor, reklamların tıklanma ve geri dönüşüm oranları optimize edilmeye çalışılıyor. Buna yönelik olarak belirli bir mecrada çeşitli senaryolara göre reklama tıklanma olasılığüını hesaplamak isteniyor.\n",
    "\n",
    "##### **Detaylar:**\n",
    "##### 1. Bir mecrada reklam veriliyor\n",
    "##### 2. Dağılım ve reklama tıklanma olasılığı biliniyor(0.01)\n",
    "##### 3. Soru: Reklamı 100 kişi gördüğünde 1,5,10 tıklanması olasılığı nedir?"
   ]
  },
  {
   "cell_type": "code",
   "execution_count": 36,
   "id": "plain-terrace",
   "metadata": {},
   "outputs": [],
   "source": [
    "from scipy.stats import binom"
   ]
  },
  {
   "cell_type": "code",
   "execution_count": 37,
   "id": "fatal-arbitration",
   "metadata": {},
   "outputs": [
    {
     "name": "stdout",
     "output_type": "stream",
     "text": [
      "0.36972963764971983\n",
      "0.0028977871237616114\n",
      "7.006035693977161e-08\n"
     ]
    }
   ],
   "source": [
    "p = 0.01\n",
    "n = 100\n",
    "rv = binom(n,p)\n",
    "print(rv.pmf(1))\n",
    "print(rv.pmf(5))\n",
    "print(rv.pmf(10))"
   ]
  },
  {
   "cell_type": "markdown",
   "id": "central-trout",
   "metadata": {},
   "source": [
    "# Poisson Dağılımı\n",
    "\n",
    "### Belirli bir zaman aralığında belirli bir alanda nadiren rastlanan olayların olasılıklarını hesaplamak için kullanılır. (kesikli bir rassal değişkendir. Binom dağılımının özel bir halidir.)\n",
    "\n",
    "\n",
    "\n",
    "${\\displaystyle f(x,\\lambda )={\\frac {\\lambda ^{x}e^{-\\lambda }}{x!}}\\,\\!}$,  x = 0,1,2,...,n\n",
    "\n",
    "\n",
    "${\\displaystyle \\operatorname {E} (X)=\\lambda}$      ${\\displaystyle \\operatorname {Var} (X)=\\lambda}$"
   ]
  },
  {
   "cell_type": "markdown",
   "id": "marked-guidance",
   "metadata": {},
   "source": [
    "##### poisson dağılımında beklenen değer ve varyans birbirinie eşittir. lambda beklenen sonucun ortalama gerçekleşme sayısı yani lambda ortalamadır.\n",
    "##### x olayın ortalama ortaya çıkma sayısı lambda ortalama demektir e sabit"
   ]
  },
  {
   "cell_type": "markdown",
   "id": "worst-catholic",
   "metadata": {},
   "source": [
    "# ------------------------------------------------"
   ]
  },
  {
   "cell_type": "markdown",
   "id": "violent-republic",
   "metadata": {},
   "source": [
    "#### **10.000 kelimeden olaşn kitapta hatalı kelime sayısı**\n",
    "#### **4000 öğrencili okulda not girşinde hata yapılması**\n",
    "#### **bir iş gününde çağrı merkezine gelen taktir sayısı**\n",
    "#### **Kredi kartı işlemlerinde sahtekarlık olması**\n",
    "#### **Rötara düşen uçuş sefer sayısı**"
   ]
  },
  {
   "cell_type": "markdown",
   "id": "passive-activity",
   "metadata": {},
   "source": [
    "##### Bu olayların nadiren gerçeklen olaylar olması gerekmektedir. bunun için de sağlanması gereken şart:\n",
    "##### (p olasılığı ifade eden değer.)\n",
    "### deneme saysı = n > 50\n",
    "### ortalama = lambda = n * p < 5\n",
    "\n",
    "##### olması gerekmektedir.\n",
    "\n",
    "# ----------------------------------------------\n",
    "\n",
    "\n",
    "##### -Rassal denemeler iki sonuçlu olmalı\n",
    "##### -Aynı koşullar altında gerçekleşmeli\n",
    "##### -Rassal denemeler birbirinden bağımsız olmalıdır"
   ]
  },
  {
   "cell_type": "markdown",
   "id": "hired-withdrawal",
   "metadata": {},
   "source": [
    "# --------------------------------------------------\n",
    "### Problem\n",
    "\n",
    "##### Bir üniversitede 5000 not girişinde 5 tane notun yanlış girilme olasılığı nedir?\n",
    "\n",
    "##### Dağılımın Poissıb ıkduğu biliniyor ve lambda = 0.2\n",
    "\n",
    "${\\displaystyle f(x,\\lambda )={\\frac {\\lambda ^{x}e^{-\\lambda }}{x!}}\\,\\!}$  ${x = 5, \\lambda = 0.2 }$\n",
    "\n",
    "###### formülde yerine konulduğunda \n",
    "\n",
    "\n",
    "${\\displaystyle f(5;0.2 )={\\frac {0.2 ^{5}e^{-0.2 }}{5!}}\\,\\! = 0.00000218328201}$\n",
    "\n",
    "# --------------------------------------------------"
   ]
  },
  {
   "cell_type": "markdown",
   "id": "sacred-details",
   "metadata": {},
   "source": [
    "## =====İŞ UYGULAMASI=====\n",
    "###  ======İlan Giriş Hata Olasılıklarının Hesaplanması\n",
    "### Problem\n",
    "\n",
    "##### Hatalı ilan girişleri hesaplanmak isteniyor\n",
    "##### **Detaylar:**\n",
    "\n",
    "##### 1. Bir yıl süresince ölçümler yapılıyor\n",
    "##### 2. Dağılım biliniyor(Poisson) ve Lambda 0.1(ortalama hata sayısı)\n",
    "##### 3. Hiç hata olmaması, 3 hata olması ve 5 hata olması olasılıkları nedir?"
   ]
  },
  {
   "cell_type": "code",
   "execution_count": 38,
   "id": "natural-parent",
   "metadata": {},
   "outputs": [],
   "source": [
    "from scipy.stats import poisson"
   ]
  },
  {
   "cell_type": "code",
   "execution_count": 39,
   "id": "brief-accuracy",
   "metadata": {},
   "outputs": [],
   "source": [
    "lambda_ = 0.1"
   ]
  },
  {
   "cell_type": "code",
   "execution_count": 40,
   "id": "nervous-camcorder",
   "metadata": {},
   "outputs": [
    {
     "name": "stdout",
     "output_type": "stream",
     "text": [
      "0.9048374180359595\n"
     ]
    }
   ],
   "source": [
    "rv = poisson(mu = lambda_)\n",
    "print(rv.pmf(k = 0))"
   ]
  },
  {
   "cell_type": "code",
   "execution_count": 41,
   "id": "distant-finnish",
   "metadata": {},
   "outputs": [
    {
     "name": "stdout",
     "output_type": "stream",
     "text": [
      "0.00015080623633932676\n"
     ]
    }
   ],
   "source": [
    "print(rv.pmf(k = 3))"
   ]
  },
  {
   "cell_type": "code",
   "execution_count": 42,
   "id": "solved-banana",
   "metadata": {},
   "outputs": [
    {
     "name": "stdout",
     "output_type": "stream",
     "text": [
      "7.54031181696634e-08\n"
     ]
    }
   ],
   "source": [
    "print(rv.pmf(k = 5))"
   ]
  },
  {
   "cell_type": "markdown",
   "id": "chicken-husband",
   "metadata": {},
   "source": [
    "## Normal Dağılım ( sürekli değişken)\n",
    "#### Normal dağıldığı bilinen sürekli rassal değişkenler için olasılık hesaplaması kullanılır. Sürekli bir değişken olduğu için integral alınarak arka planda yapılır.\n",
    "\n",
    "${\\displaystyle f(x\\mid \\mu ,\\sigma ^{2})={\\frac {1}{\\sqrt {2\\pi \\sigma ^{2}}}}e^{-{\\frac {(x-\\mu )^{2}}{2\\sigma ^{2}}}}}$\n",
    "\n",
    "* $\\mu$  ortalama ya da dağılımın beklenen değeri\n",
    "\n",
    "* ${\\displaystyle \\sigma }$  standart sapma\n",
    "\n",
    "* ${\\displaystyle \\sigma ^{2}}$ varyans\n",
    "\n",
    "* ${ x }$ = rassal değişkenin değeri \n",
    "\n"
   ]
  },
  {
   "cell_type": "markdown",
   "id": "structural-rotation",
   "metadata": {},
   "source": [
    "## =====İŞ UYGULAMASI=====\n",
    "###  ======Satış Olasılıklarının Hesaplanması======\n",
    "### Problem\n",
    "\n",
    "##### Bir yatırım/toplantı öncesinde gelecek ay ile ilgili satışların belirli değerlerde gerçekleşmesi olasılıkları bilinmesi isteniyor.\n",
    "\n",
    "##### **Detaylar:**\n",
    "\n",
    "##### 1. Dağılımın normal olduğu biliniyor\n",
    "##### 2. Aylık ortalama satışs ayısı 80.0000, standart sapması 5.000\n",
    "\n",
    "##### 3. 90.000'dan fazla satış yapma olasılığı nedir?\n"
   ]
  },
  {
   "cell_type": "code",
   "execution_count": 43,
   "id": "searching-adelaide",
   "metadata": {},
   "outputs": [],
   "source": [
    "from scipy.stats import norm"
   ]
  },
  {
   "cell_type": "markdown",
   "id": "former-factory",
   "metadata": {},
   "source": [
    "##### kümülatif yoğunluk fonksiyonu cumulative densty function ==> cdf"
   ]
  },
  {
   "cell_type": "markdown",
   "id": "quality-graduate",
   "metadata": {},
   "source": [
    "##### **90dan fazla olması olasılığı**"
   ]
  },
  {
   "cell_type": "markdown",
   "id": "known-recall",
   "metadata": {},
   "source": [
    "##### 1den 90a akdar olma olasılığını çıkartıyoruz."
   ]
  },
  {
   "cell_type": "code",
   "execution_count": 44,
   "id": "alike-guarantee",
   "metadata": {},
   "outputs": [
    {
     "data": {
      "text/plain": [
       "0.02275013194817921"
      ]
     },
     "execution_count": 44,
     "metadata": {},
     "output_type": "execute_result"
    }
   ],
   "source": [
    "1-norm.cdf(90,80,5)"
   ]
  },
  {
   "cell_type": "markdown",
   "id": "composed-neighbor",
   "metadata": {},
   "source": [
    "##### **70ten fazla olması olasılığı**"
   ]
  },
  {
   "cell_type": "code",
   "execution_count": 45,
   "id": "blocked-barrel",
   "metadata": {},
   "outputs": [
    {
     "data": {
      "text/plain": [
       "0.9772498680518208"
      ]
     },
     "execution_count": 45,
     "metadata": {},
     "output_type": "execute_result"
    }
   ],
   "source": [
    "1-norm.cdf(70,80,5)"
   ]
  },
  {
   "cell_type": "markdown",
   "id": "traditional-pasta",
   "metadata": {},
   "source": [
    "##### **73ten az olması olasılığı**"
   ]
  },
  {
   "cell_type": "code",
   "execution_count": 46,
   "id": "young-moderator",
   "metadata": {},
   "outputs": [
    {
     "data": {
      "text/plain": [
       "0.08075665923377107"
      ]
     },
     "execution_count": 46,
     "metadata": {},
     "output_type": "execute_result"
    }
   ],
   "source": [
    "norm.cdf(73,80,5)"
   ]
  },
  {
   "cell_type": "markdown",
   "id": "yellow-visiting",
   "metadata": {},
   "source": [
    "##### **85 ile 90 arasında olması olasılığı**"
   ]
  },
  {
   "cell_type": "code",
   "execution_count": 47,
   "id": "vertical-yeast",
   "metadata": {},
   "outputs": [
    {
     "data": {
      "text/plain": [
       "0.13590512198327787"
      ]
     },
     "execution_count": 47,
     "metadata": {},
     "output_type": "execute_result"
    }
   ],
   "source": [
    "norm.cdf(90,80,5) - norm.cdf(85,80,5)"
   ]
  },
  {
   "cell_type": "markdown",
   "id": "visible-worse",
   "metadata": {},
   "source": [
    "# **Hipotez Testi**\n",
    "\n",
    "Örnek ortalamasına ilişkin test yapmak için kullanılır.\n",
    "\n",
    "**Hipotezler:**\n",
    "\n",
    "##### Parametrelere belirli değerler verilerek kurulan hipotezlere sıfır,non hipotezi denir\n",
    "<d><i>H</i><sub>0</sub>: <d><i>sıfır hipotezi</i>\n",
    "<d><i>H</i><sub>1</sub>: <d><i>alternatif hipotezi</i>\n",
    "    \n",
    "    \n",
    "<d><i>H</i><sub>0</sub>: <i>μ</i> = <i>50</i></d>   \n",
    "<d><i>H</i><sub>1</sub>: <i>μ</i> ≠ <i>50</i></d><br><br>\n",
    "\n",
    "<d><i>H</i><sub>0</sub>: <i>μ</i> <= <i>50</i></d><br>\n",
    "<d><i>H</i><sub>1</sub>: <i>μ</i> > <i>50</i></d><br><br>\n",
    "\n",
    "<d><i>H</i><sub>0</sub>: <i>μ</i> >= <i>50</i></d><br>\n",
    "<d><i>H</i><sub>1</sub>: <i>μ</i> < <i>50</i></d><br><br>\n",
    "\n",
    "\n",
    "##### **p-value kısmına bakım 0.05'ten küçükse ilgili Ho hipotezini reddettiğimiz sonucnua varacağız**\n",
    "\n",
    "##### Dağılım testlerinde H0 reddedilmek istenilmez. Çünkü H0 \"örnek dağılımı ile teorik dağılım arasında fark yoktur\" der.\n",
    "##### p-value değerinin 0.05'ten küçük olmasına her zaman sevinilmez yukardeki H0 hipotezini reddetmemek için.\n",
    "\n",
    "# --------------------------------------------------\n",
    "    \n",
    "### **Hipotez Testi Adımları**\n",
    "    \n",
    "##### **Adım 1 :** Hipotezilerin kurulması ve yönlerinin belirlenmesi\n",
    "##### **Adım 2 :** Anlamlılık düzeyinin ve tablo değerinin belirlenmesi. (Alfanın değerinin belirlenmesi)\n",
    "##### **Adım 3 :** Test istatistiğinin belirlenmesi ve test istatistiğinin hesaplanması\n",
    "##### **Adım 4:**  Hesaplanan test istatistiği ile alfa'ya karşılık gelen tablo değerinin karşılaştırılması\n",
    "##### Test İstatistiği (Zh) > Tablo Değeri (Zt) ise HO Red\n",
    "##### **Adım 5:** Yorum\n"
   ]
  },
  {
   "cell_type": "markdown",
   "id": "touched-procedure",
   "metadata": {},
   "source": [
    "# Tek Örneklem T Testi\n",
    "\n",
    "##### Popülasyon ortalamsı ile varsayımsal bir değere arasında istatistiksel olarak anlamlı bir farklılık olup olmadığını test etmek için kullanılan paramatreik bir testtir\n",
    "\n",
    "##### Tek bir örneklem üzerinde test yapmamız gereken durumlarda kullanılan testtir.\n",
    "\n",
    "**Hipotezler:**\n",
    "\n",
    "<d><i>H</i><sub>0</sub>: <i>μ</i> = <i>50</i></d>   \n",
    "<d><i>H</i><sub>1</sub>: <i>μ</i> ≠ <i>50</i></d><br><br>\n",
    "\n",
    "<d><i>H</i><sub>0</sub>: <i>μ</i> <= <i>50</i></d><br>\n",
    "<d><i>H</i><sub>1</sub>: <i>μ</i> > <i>50</i></d><br><br>\n",
    "\n",
    "<d><i>H</i><sub>0</sub>: <i>μ</i> >= <i>50</i></d><br>\n",
    "<d><i>H</i><sub>1</sub>: <i>μ</i> < <i>50</i></d><br><br>\n",
    "\n",
    "\n",
    "\n",
    "<table></table>\n",
    "\n",
    "**Test İstatistiği:**\n",
    "\n",
    "##### **t dağılımı**\n",
    "\n",
    "\n",
    "${\\displaystyle t={\\frac {{\\bar {x}}-\\mu _{0}}{\\frac {s}{\\sqrt {n}}}}}$\n",
    "\n",
    "##### **z dağılımı**\n",
    "\n",
    "${\\displaystyle t={\\frac {{\\bar {x}}-\\mu _{0}}{\\frac {\\sigma}{\\sqrt {n}}}}}$\n",
    "\n"
   ]
  },
  {
   "cell_type": "markdown",
   "id": "sitting-thesaurus",
   "metadata": {},
   "source": [
    "##### **1. Anakütle standart sapması biliniyorsa z istatistiği kullanılır**\n",
    "##### **2. Anakütle standart sapması bilinmiyorsave n > 30 ise z istatistiği kullanılır**\n",
    "##### **3. Anakütle standart sapması bilinmiyor ve n < 30 ise t istatistiği kullanılır**\n",
    "\n",
    "##### Veri biliminde n genelde 30'dan büyük olacağı için ve örnek sayısı t dağılımı normal dağılıma yaklaşacağından dolayı t dağılımı kullanılır"
   ]
  },
  {
   "cell_type": "markdown",
   "id": "alone-inclusion",
   "metadata": {},
   "source": [
    "## =====İŞ UYGULAMASI=====\n",
    "###  =====Web Sitesinde Geçirilen Sürenin Testi=====\n",
    "### Problem\n",
    "\n",
    "##### Web sitemizde geçirilen ortalama süre gerçekten 170 saniye mi?\n",
    "\n",
    "##### **Detaylar:**\n",
    "\n",
    "##### 1. Yazılımlardan elde edilen web sitesinde geçirilen ortalama süreler mevcut\n",
    "##### 2. Bu veriler incelendiğinde bir yönetici ya da çalışanımız bu değerlerin böyle omladığına yönelik düşünceler taşıyor ve bu durumu test etmek istiyorlar\n"
   ]
  },
  {
   "cell_type": "markdown",
   "id": "parliamentary-earth",
   "metadata": {},
   "source": [
    "<d><i>H</i><sub>0</sub>: <i>μ</i> = <i>170</i></d>   \n",
    "<d><i>H</i><sub>1</sub>: <i>μ</i> ≠ <i>170</i></d><br><br>"
   ]
  },
  {
   "cell_type": "code",
   "execution_count": 48,
   "id": "conceptual-indie",
   "metadata": {},
   "outputs": [],
   "source": [
    "import numpy as np\n",
    "\n",
    "olcumler = np.array([17, 160, 234, 149, 145, 107, 197, 75, 201, 225, 211, 119, \n",
    "              157, 145, 127, 244, 163, 114, 145,  65, 112, 185, 202, 146,\n",
    "              203, 224, 203, 114, 188, 156, 187, 154, 177, 95, 165, 50, 110, \n",
    "              216, 138, 151, 166, 135, 155, 84, 251, 173, 131, 207, 121, 120])"
   ]
  },
  {
   "cell_type": "code",
   "execution_count": 49,
   "id": "fiscal-findings",
   "metadata": {},
   "outputs": [
    {
     "data": {
      "text/plain": [
       "array([ 17, 160, 234, 149, 145, 107, 197,  75, 201, 225])"
      ]
     },
     "execution_count": 49,
     "metadata": {},
     "output_type": "execute_result"
    }
   ],
   "source": [
    "olcumler[0:10]"
   ]
  },
  {
   "cell_type": "code",
   "execution_count": 50,
   "id": "closed-effect",
   "metadata": {},
   "outputs": [],
   "source": [
    "import scipy.stats as stats"
   ]
  },
  {
   "cell_type": "code",
   "execution_count": 51,
   "id": "junior-david",
   "metadata": {},
   "outputs": [
    {
     "data": {
      "text/plain": [
       "DescribeResult(nobs=50, minmax=(17, 251), mean=154.38, variance=2578.0363265306123, skewness=-0.32398897278694483, kurtosis=-0.05849823498415985)"
      ]
     },
     "execution_count": 51,
     "metadata": {},
     "output_type": "execute_result"
    }
   ],
   "source": [
    "stats.describe(olcumler)"
   ]
  },
  {
   "cell_type": "code",
   "execution_count": 52,
   "id": "otherwise-music",
   "metadata": {},
   "outputs": [],
   "source": [
    "#varsayımlar\n",
    "#normallik varsayımı"
   ]
  },
  {
   "cell_type": "code",
   "execution_count": 53,
   "id": "prime-grave",
   "metadata": {},
   "outputs": [
    {
     "data": {
      "image/png": "[encoded data removed]",
      "text/plain": [
       "<Figure size 432x288 with 1 Axes>"
      ]
     },
     "metadata": {
      "needs_background": "light"
     },
     "output_type": "display_data"
    }
   ],
   "source": [
    "#histogram\n",
    "import pandas as pd\n",
    "pd.DataFrame(olcumler).plot.hist();"
   ]
  },
  {
   "cell_type": "code",
   "execution_count": 54,
   "id": "integral-observation",
   "metadata": {},
   "outputs": [
    {
     "data": {
      "image/png": "[encoded data removed]",
      "text/plain": [
       "<Figure size 432x288 with 1 Axes>"
      ]
     },
     "metadata": {
      "needs_background": "light"
     },
     "output_type": "display_data"
    }
   ],
   "source": [
    "#qqplot sol taraf örnek dağılım alt taraf teorik dağılımı ifade eder.\n",
    "#örnek dağılım elimizdeki ölçümler,teorik dağılım ilgilendiğimiz normal dağılım. qqplot ile elimizdeki dağılımın normal olup olmadığını kontorl ederiz.\n",
    "#kırmızı çizgi etrafında mavi noktaların sarmal şekilde yakın olmasını bekleriz.\n",
    "import pylab\n",
    "stats.probplot(olcumler, dist=\"norm\", plot=pylab)\n",
    "pylab.show()"
   ]
  },
  {
   "cell_type": "markdown",
   "id": "vertical-progressive",
   "metadata": {},
   "source": [
    "## **Shapiro-Wilks Testi**"
   ]
  },
  {
   "cell_type": "markdown",
   "id": "lovely-navigation",
   "metadata": {},
   "source": [
    "#### **Bu testi yapmak için elimizdeki dağılımın normale yakın olup olmadığını bilmemiz gerekiyor. Yukarda bunu görsellik yardımıyla yaptık şimdi ise programlama ile yapıcaz**\n",
    "#####  **Öncelikli olarak hipotez testimizi yapıyoruz.**\n",
    "##### H0 : Örnek dağılım ile teorik normal dağılım arasında istatistiksel olarak anlamlı bir fark yoktur.\n",
    "##### H1: Vardır    "
   ]
  },
  {
   "cell_type": "code",
   "execution_count": 55,
   "id": "compound-criticism",
   "metadata": {},
   "outputs": [],
   "source": [
    " from scipy.stats import shapiro"
   ]
  },
  {
   "cell_type": "code",
   "execution_count": 56,
   "id": "independent-vehicle",
   "metadata": {},
   "outputs": [
    {
     "data": {
      "text/plain": [
       "ShapiroResult(statistic=0.9853105545043945, pvalue=0.7848747968673706)"
      ]
     },
     "execution_count": 56,
     "metadata": {},
     "output_type": "execute_result"
    }
   ],
   "source": [
    "shapiro(olcumler)"
   ]
  },
  {
   "cell_type": "markdown",
   "id": "junior-party",
   "metadata": {},
   "source": [
    "##### sol taraftaki değerler test istatistiğini ifade ediyo sağ taraftaki değer ise p-value. p-value < 0.05 ise reddedilir. bu durumda küçük olmadığı için H0'ı reddedemiyoruz. Yani örnek dağılım ile teorik dağılım arasında istatistiksel olarak anlamlı bir farklılık yoktur diyoruz. Buna dayanarak paramterik test olan T testini uygulayabiliriz."
   ]
  },
  {
   "cell_type": "code",
   "execution_count": 57,
   "id": "associate-motor",
   "metadata": {},
   "outputs": [
    {
     "name": "stdout",
     "output_type": "stream",
     "text": [
      "T Hesap İstatistiği: 0.9853105545043945\n",
      "Hesaplanan P-value: 0.7848747968673706\n"
     ]
    }
   ],
   "source": [
    "print(\"T Hesap İstatistiği: \" + str(shapiro(olcumler)[0]))\n",
    "print(\"Hesaplanan P-value: \" + str(shapiro(olcumler)[1]))"
   ]
  },
  {
   "cell_type": "markdown",
   "id": "inner-weapon",
   "metadata": {},
   "source": [
    "## Hipotez Testinin Uygulanması"
   ]
  },
  {
   "cell_type": "code",
   "execution_count": 58,
   "id": "dominant-graduation",
   "metadata": {},
   "outputs": [
    {
     "data": {
      "text/plain": [
       "Ttest_1sampResult(statistic=-2.1753117985877966, pvalue=0.034460415195071446)"
      ]
     },
     "execution_count": 58,
     "metadata": {},
     "output_type": "execute_result"
    }
   ],
   "source": [
    "stats.ttest_1samp(olcumler,popmean = 170)"
   ]
  },
  {
   "cell_type": "markdown",
   "id": "headed-ethnic",
   "metadata": {},
   "source": [
    "##### pvalue<0.05 olduğu için H0 hiptez reddedilir. Yani H0: Web sitemizde geçirilen ortalama süre 170'tir\n",
    "##### H1: .. değildir"
   ]
  },
  {
   "cell_type": "markdown",
   "id": "seasonal-estimate",
   "metadata": {},
   "source": [
    "## Nonparametrik Tek Örneklem Testi"
   ]
  },
  {
   "cell_type": "code",
   "execution_count": 59,
   "id": "handy-moisture",
   "metadata": {},
   "outputs": [],
   "source": [
    "from statsmodels.stats.descriptivestats import sign_test"
   ]
  },
  {
   "cell_type": "code",
   "execution_count": 60,
   "id": "actual-harvard",
   "metadata": {},
   "outputs": [
    {
     "data": {
      "text/plain": [
       "(-7.0, 0.06490864707227219)"
      ]
     },
     "execution_count": 60,
     "metadata": {},
     "output_type": "execute_result"
    }
   ],
   "source": [
    "sign_test(olcumler, 170)"
   ]
  },
  {
   "cell_type": "markdown",
   "id": "extraordinary-karma",
   "metadata": {},
   "source": [
    "###### elimizdeki veri parametrikti o yüzden bu nonparametrik değerlere bakamayız. Elimizdeki parametrik olmasaydı bu testi uygulayacaktık ki sonuca göre göre p value testi 0.06 çıktı. bu teste göre hipotezi reddedmememiz lazımdı ki bu da yanlış sonuca yönlendirecekti bizi"
   ]
  },
  {
   "cell_type": "markdown",
   "id": "minute-council",
   "metadata": {},
   "source": [
    "# Tek Örneklem Oran Testi\n",
    "##### Oransal bir ifade test edilmek istenildiğinde kullanılır."
   ]
  },
  {
   "cell_type": "markdown",
   "id": "objective-surveillance",
   "metadata": {},
   "source": [
    "## =====İŞ UYGULAMASI=====\n",
    "###  =====Dönüşüm OranıTesti=====\n",
    "### Problem\n",
    "\n",
    "##### Bir yazılım ile bir mecrada reklam verilmiş ve bu reklama yazılım tarafıdan 1.125 dönüşüm oranı elde edildiği ifade edilmiş. Fakat bu durum kontrol edilmek isteniyor. Çünkü bu yüksek bir oran ve gelirler incelendiğinde örtüşmüyor.\n",
    "\n",
    "##### **Detaylar:**\n",
    "\n",
    "##### 1. 500 kişi dış mecrada reklama tıklamış, 40 tanesi gelip alışveriş yapmış. \n",
    "##### 2. Örnek üzerinden elde edilen dönüşüm oran 50/500 = 0,08\n"
   ]
  },
  {
   "cell_type": "markdown",
   "id": "figured-spencer",
   "metadata": {},
   "source": [
    "HO: p = 0.125 \n",
    "\n",
    "H1: p != 0.125"
   ]
  },
  {
   "cell_type": "code",
   "execution_count": 62,
   "id": "extended-queen",
   "metadata": {},
   "outputs": [],
   "source": [
    "from statsmodels.stats.proportion import proportions_ztest"
   ]
  },
  {
   "cell_type": "code",
   "execution_count": 64,
   "id": "worse-andrew",
   "metadata": {},
   "outputs": [],
   "source": [
    "count = 40\n",
    "nobs = 500\n",
    "value = 0.125"
   ]
  },
  {
   "cell_type": "code",
   "execution_count": 65,
   "id": "respective-tuesday",
   "metadata": {},
   "outputs": [
    {
     "data": {
      "text/plain": [
       "(-3.7090151628513017, 0.0002080669689845979)"
      ]
     },
     "execution_count": 65,
     "metadata": {},
     "output_type": "execute_result"
    }
   ],
   "source": [
    "proportions_ztest(count, nobs, value)"
   ]
  },
  {
   "cell_type": "code",
   "execution_count": 66,
   "id": "unauthorized-parallel",
   "metadata": {},
   "outputs": [],
   "source": [
    "#soldaki z test istatistiği,kolaylık açısından sağdaki pvalue ile ilgileniyoruz. 0.05ten daha küçük olduğu için reddediyoruz. Yani ürün satın almasına ilişkin dönüşüm oranı 0.0125 değildir."
   ]
  },
  {
   "cell_type": "markdown",
   "id": "original-shower",
   "metadata": {},
   "source": [
    "## Bağımsız İki Örneklem T Testi\n",
    "##### İki grup ortalaması arasında karşılaştırma yapılmak istendiğinde kullanılır.\n",
    "\n",
    "H0: M1 = M2 \n",
    "\n",
    "H1: M1 != M2"
   ]
  },
  {
   "cell_type": "markdown",
   "id": "modified-therapist",
   "metadata": {},
   "source": [
    "## =====İŞ UYGULAMASI=====\n",
    "###  =====ML Modelinin Başarı Testi(AB Testi)=====\n",
    "### Problem\n",
    "\n",
    "##### Bir ML projesine yatırım yapılmış. Ürettiği tahminler neticesinde oluşan gelir ile eski sistemin ürettiği gelirler karşılaştırılım farklılık olup olmadığı test edilmek isteniyor.\n",
    "##### **Detaylar:**\n",
    "\n",
    "##### 1. Model geliştirilmiş ve web sitesine entegre edilmiş.\n",
    "##### 2. Site kullabucukaru belirli bir kurala göre ikiye bölünmüş olsun\n",
    "##### 3. A grubu eski B grubu yeni sistem\n",
    "##### 4. Gelir anlamında bir iş yapılıp yapılmadığı test edilmek isteniyor.\n",
    "\n",
    "##### H0 : m1 = m2\n",
    "##### H1 : m1 != m2\n"
   ]
  },
  {
   "cell_type": "code",
   "execution_count": null,
   "id": "major-positive",
   "metadata": {},
   "outputs": [],
   "source": [
    "#VERI TIPI I"
   ]
  },
  {
   "cell_type": "code",
   "execution_count": 67,
   "id": "secure-south",
   "metadata": {},
   "outputs": [
    {
     "data": {
      "text/html": [
       "<div>\n",
       "<style scoped>\n",
       "    .dataframe tbody tr th:only-of-type {\n",
       "        vertical-align: middle;\n",
       "    }\n",
       "\n",
       "    .dataframe tbody tr th {\n",
       "        vertical-align: top;\n",
       "    }\n",
       "\n",
       "    .dataframe thead th {\n",
       "        text-align: right;\n",
       "    }\n",
       "</style>\n",
       "<table border=\"1\" class=\"dataframe\">\n",
       "  <thead>\n",
       "    <tr style=\"text-align: right;\">\n",
       "      <th></th>\n",
       "      <th>A</th>\n",
       "      <th>B</th>\n",
       "    </tr>\n",
       "  </thead>\n",
       "  <tbody>\n",
       "    <tr>\n",
       "      <th>0</th>\n",
       "      <td>30</td>\n",
       "      <td>37</td>\n",
       "    </tr>\n",
       "    <tr>\n",
       "      <th>1</th>\n",
       "      <td>27</td>\n",
       "      <td>39</td>\n",
       "    </tr>\n",
       "    <tr>\n",
       "      <th>2</th>\n",
       "      <td>21</td>\n",
       "      <td>31</td>\n",
       "    </tr>\n",
       "    <tr>\n",
       "      <th>3</th>\n",
       "      <td>27</td>\n",
       "      <td>31</td>\n",
       "    </tr>\n",
       "    <tr>\n",
       "      <th>4</th>\n",
       "      <td>29</td>\n",
       "      <td>34</td>\n",
       "    </tr>\n",
       "  </tbody>\n",
       "</table>\n",
       "</div>"
      ],
      "text/plain": [
       "    A   B\n",
       "0  30  37\n",
       "1  27  39\n",
       "2  21  31\n",
       "3  27  31\n",
       "4  29  34"
      ]
     },
     "execution_count": 67,
     "metadata": {},
     "output_type": "execute_result"
    }
   ],
   "source": [
    "A = pd.DataFrame([30,27,21,27,29,30,20,20,27,32,35,22,24,23,25,27,23,27,23,\n",
    "        25,21,18,24,26,33,26,27,28,19,25])\n",
    "\n",
    "B = pd.DataFrame([37,39,31,31,34,38,30,36,29,28,38,28,37,37,30,32,31,31,27,\n",
    "        32,33,33,33,31,32,33,26,32,33,29])\n",
    "\n",
    "\n",
    "A_B = pd.concat([A, B], axis = 1)\n",
    "A_B.columns = [\"A\",\"B\"]\n",
    "\n",
    "A_B.head()"
   ]
  },
  {
   "cell_type": "code",
   "execution_count": 71,
   "id": "universal-silly",
   "metadata": {},
   "outputs": [],
   "source": [
    "#VERİ TİPİ II\n",
    "\n",
    "#Aşağıdaki yöntem veri oluşturmanın en uğraştırıcı şekli. Önce eldeki değerlerden bir numpy dizisi oluşturuyoruz. Sonrasında bunu dataframe haline çeviriyoruz. \n",
    "#Bu oluşan değerlerin hepsini A olarak atıyoruz. Ve bunları tek değişkenler value ve grup olacak şekilde birleştiriyoruz. Aynını B için de yapınca bu iki farklı veriyi aynı klasmanda toplamış oluyoruz."
   ]
  },
  {
   "cell_type": "code",
   "execution_count": 69,
   "id": "whole-remark",
   "metadata": {},
   "outputs": [
    {
     "name": "stdout",
     "output_type": "stream",
     "text": [
      "   gelir GRUP\n",
      "0     30    A\n",
      "1     27    A\n",
      "2     21    A\n",
      "3     27    A\n",
      "4     29    A\n",
      "    gelir GRUP\n",
      "25     33    B\n",
      "26     26    B\n",
      "27     32    B\n",
      "28     33    B\n",
      "29     29    B\n"
     ]
    }
   ],
   "source": [
    "A = pd.DataFrame([30,27,21,27,29,30,20,20,27,32,35,22,24,23,25,27,23,27,23,\n",
    "        25,21,18,24,26,33,26,27,28,19,25])\n",
    "\n",
    "B = pd.DataFrame([37,39,31,31,34,38,30,36,29,28,38,28,37,37,30,32,31,31,27,\n",
    "        32,33,33,33,31,32,33,26,32,33,29])\n",
    "\n",
    "#A ve A'nın grubu\n",
    "GRUP_A = np.arange(len(A))\n",
    "GRUP_A = pd.DataFrame(GRUP_A)\n",
    "GRUP_A[:] = \"A\"\n",
    "A = pd.concat([A, GRUP_A], axis = 1)\n",
    "\n",
    "#B ve B'nin Grubu\n",
    "GRUP_B = np.arange(len(B))\n",
    "GRUP_B = pd.DataFrame(GRUP_B)\n",
    "GRUP_B[:] = \"B\"\n",
    "B = pd.concat([B, GRUP_B], axis = 1)\n",
    "\n",
    "#Tum veri\n",
    "AB = pd.concat([A,B])\n",
    "AB.columns = [\"gelir\",\"GRUP\"]\n",
    "print(AB.head())\n",
    "print(AB.tail())"
   ]
  },
  {
   "cell_type": "code",
   "execution_count": 73,
   "id": "silver-personal",
   "metadata": {},
   "outputs": [
    {
     "data": {
      "image/png": "[encoded data removed]",
      "text/plain": [
       "<Figure size 432x288 with 1 Axes>"
      ]
     },
     "metadata": {
      "needs_background": "light"
     },
     "output_type": "display_data"
    }
   ],
   "source": [
    "import seaborn as sns\n",
    "sns.boxplot(x = \"GRUP\", y = \"gelir\", data = AB);"
   ]
  },
  {
   "cell_type": "code",
   "execution_count": 74,
   "id": "prospective-camcorder",
   "metadata": {},
   "outputs": [],
   "source": [
    "#B grubu daha yukarda. bunun şans eseri oluşup oluşmadığını bilmiyoruz bu yüzdn bu durumu test edeceğiz"
   ]
  },
  {
   "cell_type": "markdown",
   "id": "expired-salvation",
   "metadata": {},
   "source": [
    "## Varsayım Kontrolü"
   ]
  },
  {
   "cell_type": "code",
   "execution_count": 76,
   "id": "baking-freeware",
   "metadata": {},
   "outputs": [
    {
     "data": {
      "text/html": [
       "<div>\n",
       "<style scoped>\n",
       "    .dataframe tbody tr th:only-of-type {\n",
       "        vertical-align: middle;\n",
       "    }\n",
       "\n",
       "    .dataframe tbody tr th {\n",
       "        vertical-align: top;\n",
       "    }\n",
       "\n",
       "    .dataframe thead th {\n",
       "        text-align: right;\n",
       "    }\n",
       "</style>\n",
       "<table border=\"1\" class=\"dataframe\">\n",
       "  <thead>\n",
       "    <tr style=\"text-align: right;\">\n",
       "      <th></th>\n",
       "      <th>A</th>\n",
       "      <th>B</th>\n",
       "    </tr>\n",
       "  </thead>\n",
       "  <tbody>\n",
       "    <tr>\n",
       "      <th>0</th>\n",
       "      <td>30</td>\n",
       "      <td>37</td>\n",
       "    </tr>\n",
       "    <tr>\n",
       "      <th>1</th>\n",
       "      <td>27</td>\n",
       "      <td>39</td>\n",
       "    </tr>\n",
       "    <tr>\n",
       "      <th>2</th>\n",
       "      <td>21</td>\n",
       "      <td>31</td>\n",
       "    </tr>\n",
       "    <tr>\n",
       "      <th>3</th>\n",
       "      <td>27</td>\n",
       "      <td>31</td>\n",
       "    </tr>\n",
       "    <tr>\n",
       "      <th>4</th>\n",
       "      <td>29</td>\n",
       "      <td>34</td>\n",
       "    </tr>\n",
       "  </tbody>\n",
       "</table>\n",
       "</div>"
      ],
      "text/plain": [
       "    A   B\n",
       "0  30  37\n",
       "1  27  39\n",
       "2  21  31\n",
       "3  27  31\n",
       "4  29  34"
      ]
     },
     "execution_count": 76,
     "metadata": {},
     "output_type": "execute_result"
    }
   ],
   "source": [
    "A_B.head()"
   ]
  },
  {
   "cell_type": "code",
   "execution_count": 77,
   "id": "announced-providence",
   "metadata": {},
   "outputs": [
    {
     "data": {
      "text/html": [
       "<div>\n",
       "<style scoped>\n",
       "    .dataframe tbody tr th:only-of-type {\n",
       "        vertical-align: middle;\n",
       "    }\n",
       "\n",
       "    .dataframe tbody tr th {\n",
       "        vertical-align: top;\n",
       "    }\n",
       "\n",
       "    .dataframe thead th {\n",
       "        text-align: right;\n",
       "    }\n",
       "</style>\n",
       "<table border=\"1\" class=\"dataframe\">\n",
       "  <thead>\n",
       "    <tr style=\"text-align: right;\">\n",
       "      <th></th>\n",
       "      <th>gelir</th>\n",
       "      <th>GRUP</th>\n",
       "    </tr>\n",
       "  </thead>\n",
       "  <tbody>\n",
       "    <tr>\n",
       "      <th>0</th>\n",
       "      <td>30</td>\n",
       "      <td>A</td>\n",
       "    </tr>\n",
       "    <tr>\n",
       "      <th>1</th>\n",
       "      <td>27</td>\n",
       "      <td>A</td>\n",
       "    </tr>\n",
       "    <tr>\n",
       "      <th>2</th>\n",
       "      <td>21</td>\n",
       "      <td>A</td>\n",
       "    </tr>\n",
       "    <tr>\n",
       "      <th>3</th>\n",
       "      <td>27</td>\n",
       "      <td>A</td>\n",
       "    </tr>\n",
       "    <tr>\n",
       "      <th>4</th>\n",
       "      <td>29</td>\n",
       "      <td>A</td>\n",
       "    </tr>\n",
       "  </tbody>\n",
       "</table>\n",
       "</div>"
      ],
      "text/plain": [
       "   gelir GRUP\n",
       "0     30    A\n",
       "1     27    A\n",
       "2     21    A\n",
       "3     27    A\n",
       "4     29    A"
      ]
     },
     "execution_count": 77,
     "metadata": {},
     "output_type": "execute_result"
    }
   ],
   "source": [
    "AB.head()"
   ]
  },
  {
   "cell_type": "code",
   "execution_count": 84,
   "id": "earlier-mauritius",
   "metadata": {},
   "outputs": [],
   "source": [
    "#normallik var sayımı\n",
    "#ayrı ayrı değerlendirmek daha sağlıklı olur. bu yüzden a ve b yi ayrı ayrı shapiro testine sokuyoruz."
   ]
  },
  {
   "cell_type": "code",
   "execution_count": 85,
   "id": "prostate-holly",
   "metadata": {},
   "outputs": [],
   "source": [
    "from scipy.stats import shapiro"
   ]
  },
  {
   "cell_type": "code",
   "execution_count": 81,
   "id": "protective-effectiveness",
   "metadata": {},
   "outputs": [
    {
     "data": {
      "text/plain": [
       "ShapiroResult(statistic=0.9789242148399353, pvalue=0.7962799668312073)"
      ]
     },
     "execution_count": 81,
     "metadata": {},
     "output_type": "execute_result"
    }
   ],
   "source": [
    "shapiro(A_B.A)\n",
    "#örnek dağılımıyla teorik normal dağılım arasında fark yoktur diyordu. pvalue 0.05ten büyük olduğu için bu doğru"
   ]
  },
  {
   "cell_type": "code",
   "execution_count": 86,
   "id": "adjacent-equilibrium",
   "metadata": {},
   "outputs": [
    {
     "data": {
      "text/plain": [
       "ShapiroResult(statistic=0.9561261534690857, pvalue=0.2458445429801941)"
      ]
     },
     "execution_count": 86,
     "metadata": {},
     "output_type": "execute_result"
    }
   ],
   "source": [
    "shapiro(A_B.B)\n",
    "#burda da pvalue 0.05ten küçük olduğu için örnek dağılım ile teorik dağılımın arsında fark olmadığını söylüyordu.bu da doğru. ikinci grup için de normallik varsayımı sağlanıyor."
   ]
  },
  {
   "cell_type": "code",
   "execution_count": 82,
   "id": "attractive-ratio",
   "metadata": {},
   "outputs": [],
   "source": [
    "#varyans homojenliği varsayımı"
   ]
  },
  {
   "cell_type": "markdown",
   "id": "strategic-rochester",
   "metadata": {},
   "source": [
    "##### H0 = Varyanslar homojendir\n",
    "##### H1 = Varyanslar homojen değildir"
   ]
  },
  {
   "cell_type": "code",
   "execution_count": 88,
   "id": "common-comparison",
   "metadata": {},
   "outputs": [
    {
     "data": {
      "text/plain": [
       "LeveneResult(statistic=1.1101802757158004, pvalue=0.2964124900636569)"
      ]
     },
     "execution_count": 88,
     "metadata": {},
     "output_type": "execute_result"
    }
   ],
   "source": [
    "stats.levene(A_B.A, A_B.B)"
   ]
  },
  {
   "cell_type": "code",
   "execution_count": 89,
   "id": "victorian-posting",
   "metadata": {},
   "outputs": [],
   "source": [
    "#soldaki levene test istatistiğini sağ yine pvalue. pvalue 0.05ten büyük olduğu için bu H0 hipotezinireddedmiyoruz. Bu da varyans homojenliği varsayımın sağlandığını gösteriyor."
   ]
  },
  {
   "cell_type": "markdown",
   "id": "ranking-ethics",
   "metadata": {},
   "source": [
    "## Hipotez Testi"
   ]
  },
  {
   "cell_type": "code",
   "execution_count": 90,
   "id": "pending-boutique",
   "metadata": {},
   "outputs": [
    {
     "data": {
      "text/plain": [
       "Ttest_indResult(statistic=-7.028690967745927, pvalue=2.6233215605475075e-09)"
      ]
     },
     "execution_count": 90,
     "metadata": {},
     "output_type": "execute_result"
    }
   ],
   "source": [
    "stats.ttest_ind(A_B[\"A\"], A_B[\"B\"], equal_var = True)"
   ]
  },
  {
   "cell_type": "code",
   "execution_count": 93,
   "id": "comic-parade",
   "metadata": {},
   "outputs": [],
   "source": [
    "#varyans homojenliği olduğu için equal_var = True dedik. pvalue 0.05ten büyük olduğu için farklılık vardır ve olmadığını iddia eden H0 reddedilir.E-09 DEĞERİ BUNU GÖSTERİYOR. Aşağıda da bu e değerinden nasıl kurutulup daha düzenli hale getireceğimizi gördük."
   ]
  },
  {
   "cell_type": "code",
   "execution_count": 92,
   "id": "oriental-stationery",
   "metadata": {},
   "outputs": [
    {
     "name": "stdout",
     "output_type": "stream",
     "text": [
      "Test İstatistiği = -7.0287, p-değeri = 0.0000\n"
     ]
    }
   ],
   "source": [
    "test_istatistigi, pvalue = stats.ttest_ind(A_B[\"A\"], A_B[\"B\"], equal_var=True)\n",
    "print('Test İstatistiği = %.4f, p-değeri = %.4f' % (test_istatistigi, pvalue))"
   ]
  },
  {
   "cell_type": "code",
   "execution_count": 95,
   "id": "classified-provider",
   "metadata": {},
   "outputs": [],
   "source": [
    "# SONUÇ OLARAK BU PROBLEMİN SONUCUNDA:\n",
    "# HİPOTEZİMİZ M1=M2 DİYORDU. ESKİ SİSTEM YENİ SİSTEMLE EŞİT. ESKİ SİSTEM KULLANICILARIN BİR ÜRÜN ÖNERİSİ ALMADAN ÜRÜNLE KARŞILAŞTIRILMASINI İFADE EDİYOR. YENİ SİSTEM DE ML YÖNTEMİYLE ÜRÜNLERİN KULLANICILARLA KARŞILAŞTIRILMASINI SÖYLÜYOR. \n",
    "# İNCELEDİĞİMİZDE DE ESKİ SİSTEMLE YENİ SİSTEM ARASINDA BİR FARK VARDIR. VE BUNUDA B YANİ YENİ SİSTEM LEHİNE OLDUĞU GÖRÜNMÜŞ OLDU.\n",
    "# A-B TESTİNİ YAPTIK.\n",
    "#EĞER YUKARDAKİ TESTLERİN SONUCU NEGATİF YANİ OLUMSUZ ÇIMIŞ OLSAYDI  NONPARAMETRİK BAĞIMSIZ İKİ ÖNLEM TESTİ YAPACAKTIK.(aşağıdaki mannwgiyneyu testi budur)"
   ]
  },
  {
   "cell_type": "code",
   "execution_count": 101,
   "id": "hungry-hygiene",
   "metadata": {},
   "outputs": [
    {
     "data": {
      "text/plain": [
       "MannwhitneyuResult(statistic=89.5, pvalue=4.778975189306267e-08)"
      ]
     },
     "execution_count": 101,
     "metadata": {},
     "output_type": "execute_result"
    }
   ],
   "source": [
    "stats.mannwhitneyu(A_B.A, A_B.B)\n",
    "#VEYA\n"
   ]
  },
  {
   "cell_type": "code",
   "execution_count": 100,
   "id": "absolute-evolution",
   "metadata": {},
   "outputs": [
    {
     "data": {
      "text/plain": [
       "MannwhitneyuResult(statistic=89.5, pvalue=4.778975189306267e-08)"
      ]
     },
     "execution_count": 100,
     "metadata": {},
     "output_type": "execute_result"
    }
   ],
   "source": [
    "stats.mannwhitneyu(A_B[\"A\"], A_B[\"B\"])"
   ]
  },
  {
   "cell_type": "code",
   "execution_count": 104,
   "id": "warming-country",
   "metadata": {},
   "outputs": [
    {
     "name": "stdout",
     "output_type": "stream",
     "text": [
      "Test istatistiği = 89.5000, p-değeri = 0.000000\n"
     ]
    }
   ],
   "source": [
    "# Daha düzgün yazmak için önceden yaptığımız gibi\n",
    "test_istatistigi, pvalue = stats.mannwhitneyu(A_B[\"A\"], A_B[\"B\"])\n",
    "print(\"Test istatistiği = %.4f, p-değeri = %.4f\" %(test_istatistigi,pvalue))"
   ]
  },
  {
   "cell_type": "code",
   "execution_count": 105,
   "id": "rubber-pakistan",
   "metadata": {},
   "outputs": [],
   "source": [
    "#p value 0.0000 değerinden yani alfadan çok çok daha küçük olduğu için  hem parametrik hem nanmaparametrik test sonucunda arada fark vardır tezine ulaşmış oulyoruz."
   ]
  },
  {
   "cell_type": "markdown",
   "id": "conventional-afghanistan",
   "metadata": {},
   "source": [
    "## İki Örneklem Oran Testi"
   ]
  },
  {
   "cell_type": "code",
   "execution_count": 19,
   "id": "exact-wesley",
   "metadata": {},
   "outputs": [],
   "source": [
    "from statsmodels.stats.proportion import proportions_ztest"
   ]
  },
  {
   "cell_type": "code",
   "execution_count": 20,
   "id": "damaged-hybrid",
   "metadata": {},
   "outputs": [],
   "source": [
    "import numpy as np\n",
    "basari_sayisi = np.array([300, 250])\n",
    "gozlem_sayilari = np.array([1000, 1100])"
   ]
  },
  {
   "cell_type": "code",
   "execution_count": 22,
   "id": "casual-farmer",
   "metadata": {},
   "outputs": [
    {
     "data": {
      "text/plain": [
       "(3.7857863233209255, 0.0001532232957772221)"
      ]
     },
     "execution_count": 22,
     "metadata": {},
     "output_type": "execute_result"
    }
   ],
   "source": [
    "proportions_ztest(count = basari_sayisi, nobs = gozlem_sayilari)"
   ]
  },
  {
   "cell_type": "markdown",
   "id": "collective-reputation",
   "metadata": {},
   "source": [
    "## =====İŞ UYGULAMASI=====\n",
    "###  =====Şirket içi Eğitimin Performans Etkisi Ölçümü=====\n",
    "### Problem\n",
    "\n",
    "##### Belirli uğraşlar sonucunda alınan eğitimin katma değer sağlayıp sağlamadığı denetlenmek ölçülmek isteniyor.\n",
    "##### **Detaylar:**\n",
    "\n",
    "##### 1. Bir departman bir konuda eğitim talep ediyor\n",
    "##### 2. Gerekli/gereksiz değerlendirmeleri neticesinde eğitim alınıyor\n",
    "##### 3. Eğitimden önce ve sonra olacak şekilde gerekli ölçümler yapılıyor\n",
    "##### 4. Eğitim sonrasında eğitimin sağladığı katma değer test edilmek isteniyor\n",
    "\n",
    "##### H0 : m1 = m2 Yeni eğitimin öncesi ve sonrası arasında bir fark omamıştır\n",
    "##### H1 : m1 != m2 Eğitim faydalı olmuştur arada bir fark oluşmuştur \n",
    "\n",
    "# Bağımlı İki Örneklem T Testi\n"
   ]
  },
  {
   "cell_type": "code",
   "execution_count": 107,
   "id": "portuguese-designation",
   "metadata": {},
   "outputs": [],
   "source": [
    "oncesi = pd.DataFrame([123,119,119,116,123,123,121,120,117,118,121,121,123,119,\n",
    "            121,118,124,121,125,115,115,119,118,121,117,117,120,120,\n",
    "            121,117,118,117,123,118,124,121,115,118,125,115])\n",
    "\n",
    "sonrasi = pd.DataFrame([118,127,122,132,129,123,129,132,128,130,128,138,140,130,\n",
    "             134,134,124,140,134,129,129,138,134,124,122,126,133,127,\n",
    "             130,130,130,132,117,130,125,129,133,120,127,123])"
   ]
  },
  {
   "cell_type": "code",
   "execution_count": 108,
   "id": "arabic-camcorder",
   "metadata": {},
   "outputs": [
    {
     "data": {
      "text/html": [
       "<div>\n",
       "<style scoped>\n",
       "    .dataframe tbody tr th:only-of-type {\n",
       "        vertical-align: middle;\n",
       "    }\n",
       "\n",
       "    .dataframe tbody tr th {\n",
       "        vertical-align: top;\n",
       "    }\n",
       "\n",
       "    .dataframe thead th {\n",
       "        text-align: right;\n",
       "    }\n",
       "</style>\n",
       "<table border=\"1\" class=\"dataframe\">\n",
       "  <thead>\n",
       "    <tr style=\"text-align: right;\">\n",
       "      <th></th>\n",
       "      <th>0</th>\n",
       "    </tr>\n",
       "  </thead>\n",
       "  <tbody>\n",
       "    <tr>\n",
       "      <th>0</th>\n",
       "      <td>123</td>\n",
       "    </tr>\n",
       "    <tr>\n",
       "      <th>1</th>\n",
       "      <td>119</td>\n",
       "    </tr>\n",
       "    <tr>\n",
       "      <th>2</th>\n",
       "      <td>119</td>\n",
       "    </tr>\n",
       "    <tr>\n",
       "      <th>3</th>\n",
       "      <td>116</td>\n",
       "    </tr>\n",
       "    <tr>\n",
       "      <th>4</th>\n",
       "      <td>123</td>\n",
       "    </tr>\n",
       "  </tbody>\n",
       "</table>\n",
       "</div>"
      ],
      "text/plain": [
       "     0\n",
       "0  123\n",
       "1  119\n",
       "2  119\n",
       "3  116\n",
       "4  123"
      ]
     },
     "execution_count": 108,
     "metadata": {},
     "output_type": "execute_result"
    }
   ],
   "source": [
    "oncesi [0 :5]"
   ]
  },
  {
   "cell_type": "code",
   "execution_count": 111,
   "id": "heavy-average",
   "metadata": {},
   "outputs": [
    {
     "data": {
      "text/html": [
       "<div>\n",
       "<style scoped>\n",
       "    .dataframe tbody tr th:only-of-type {\n",
       "        vertical-align: middle;\n",
       "    }\n",
       "\n",
       "    .dataframe tbody tr th {\n",
       "        vertical-align: top;\n",
       "    }\n",
       "\n",
       "    .dataframe thead th {\n",
       "        text-align: right;\n",
       "    }\n",
       "</style>\n",
       "<table border=\"1\" class=\"dataframe\">\n",
       "  <thead>\n",
       "    <tr style=\"text-align: right;\">\n",
       "      <th></th>\n",
       "      <th>0</th>\n",
       "    </tr>\n",
       "  </thead>\n",
       "  <tbody>\n",
       "    <tr>\n",
       "      <th>0</th>\n",
       "      <td>118</td>\n",
       "    </tr>\n",
       "    <tr>\n",
       "      <th>1</th>\n",
       "      <td>127</td>\n",
       "    </tr>\n",
       "    <tr>\n",
       "      <th>2</th>\n",
       "      <td>122</td>\n",
       "    </tr>\n",
       "    <tr>\n",
       "      <th>3</th>\n",
       "      <td>132</td>\n",
       "    </tr>\n",
       "    <tr>\n",
       "      <th>4</th>\n",
       "      <td>129</td>\n",
       "    </tr>\n",
       "  </tbody>\n",
       "</table>\n",
       "</div>"
      ],
      "text/plain": [
       "     0\n",
       "0  118\n",
       "1  127\n",
       "2  122\n",
       "3  132\n",
       "4  129"
      ]
     },
     "execution_count": 111,
     "metadata": {},
     "output_type": "execute_result"
    }
   ],
   "source": [
    "sonrasi[0:5]"
   ]
  },
  {
   "cell_type": "code",
   "execution_count": 112,
   "id": "improved-portugal",
   "metadata": {},
   "outputs": [
    {
     "data": {
      "text/plain": [
       "array([ 0,  1,  2,  3,  4,  5,  6,  7,  8,  9, 10, 11, 12, 13, 14, 15, 16,\n",
       "       17, 18, 19, 20, 21, 22, 23, 24, 25, 26, 27, 28, 29, 30, 31, 32, 33,\n",
       "       34, 35, 36, 37, 38, 39])"
      ]
     },
     "execution_count": 112,
     "metadata": {},
     "output_type": "execute_result"
    }
   ],
   "source": [
    " np.arange(len(oncesi))"
   ]
  },
  {
   "cell_type": "code",
   "execution_count": 113,
   "id": "lasting-reception",
   "metadata": {},
   "outputs": [
    {
     "name": "stdout",
     "output_type": "stream",
     "text": [
      "'AYRIK' Veri Seti: \n",
      "\n",
      "     ONCESI  SONRASI\n",
      "0     123      118\n",
      "1     119      127\n",
      "2     119      122\n",
      "3     116      132\n",
      "4     123      129 \n",
      "\n",
      "\n",
      "'BIRLIKTE' Veri Seti: \n",
      "\n",
      "    PERFORMANS ONCESI_SONRASI\n",
      "0         123         ONCESI\n",
      "1         119         ONCESI\n",
      "2         119         ONCESI\n",
      "3         116         ONCESI\n",
      "4         123         ONCESI \n",
      "\n"
     ]
    }
   ],
   "source": [
    "#BIRINCI VERI SETI\n",
    "AYRIK = pd.concat([oncesi, sonrasi], axis = 1)\n",
    "AYRIK.columns = [\"ONCESI\",\"SONRASI\"]\n",
    "print(\"'AYRIK' Veri Seti: \\n\\n \", AYRIK.head(), \"\\n\\n\")\n",
    "\n",
    "\n",
    "#IKINCI VERI SETI\n",
    "#ONCESI FLAG/TAG'INI OLUSTURMA yukardaki arrayda göründüğü üzere öncesi sayısı kadar değer oluşturduk.\n",
    "GRUP_ONCESI = np.arange(len(oncesi))\n",
    "GRUP_ONCESI = pd.DataFrame(GRUP_ONCESI)\n",
    "GRUP_ONCESI[:] = \"ONCESI\"\n",
    "#FLAG VE ONCESI DEGERLERINI BIR ARAYA GETIRME data frame'e çevirdikten sonra öncesi değerleri ve öncesi olduğunu belirten ifadeleri birleştirdik\n",
    "A = pd.concat([oncesi, GRUP_ONCESI], axis = 1)\n",
    "#SONRASI FLAG/TAG'INI OLUSTURMA sonrası içinde yukarda yaptığımız işlemi tekrar ettik.\n",
    "GRUP_SONRASI = np.arange(len(sonrasi))\n",
    "GRUP_SONRASI = pd.DataFrame(GRUP_SONRASI)\n",
    "GRUP_SONRASI[:] = \"SONRASI\"\n",
    "\n",
    "#FLAG VE SONRASI DEGERLERINI BIR ARAYA GETIRME \n",
    "B = pd.concat([sonrasi, GRUP_SONRASI], axis = 1)\n",
    "\n",
    "#TUM VERIYI BIR ARAYA GETIRME ikisini bir araya getirdik.\n",
    "BIRLIKTE = pd.concat([A,B])\n",
    "BIRLIKTE\n",
    "\n",
    "#ISIMLENDIRME\n",
    "BIRLIKTE.columns = [\"PERFORMANS\",\"ONCESI_SONRASI\"]\n",
    "print(\"'BIRLIKTE' Veri Seti: \\n\\n\", BIRLIKTE.head(), \"\\n\")"
   ]
  },
  {
   "cell_type": "code",
   "execution_count": 114,
   "id": "brief-mortgage",
   "metadata": {},
   "outputs": [
    {
     "data": {
      "image/png": "[encoded data removed]",
      "text/plain": [
       "<Figure size 432x288 with 1 Axes>"
      ]
     },
     "metadata": {
      "needs_background": "light"
     },
     "output_type": "display_data"
    }
   ],
   "source": [
    "import seaborn as sns\n",
    "sns.boxplot(x = \"ONCESI_SONRASI\", y = \"PERFORMANS\", data = BIRLIKTE);"
   ]
  },
  {
   "cell_type": "code",
   "execution_count": 116,
   "id": "refined-transcript",
   "metadata": {},
   "outputs": [],
   "source": [
    "# sonrası grubunun görünüşte daha iyi olduğunu görebiliyoruz ancak rastgele mi olduğunu yoksa gerçkten etkili mi olduğunu varsayım kontrolü ile kontrol edeceğiz."
   ]
  },
  {
   "cell_type": "code",
   "execution_count": 117,
   "id": "earned-enlargement",
   "metadata": {},
   "outputs": [],
   "source": [
    "# Varsayım Kontrolleri"
   ]
  },
  {
   "cell_type": "code",
   "execution_count": 120,
   "id": "variable-auditor",
   "metadata": {},
   "outputs": [],
   "source": [
    "from scipy.stats import shapiro"
   ]
  },
  {
   "cell_type": "code",
   "execution_count": 121,
   "id": "commercial-scheme",
   "metadata": {},
   "outputs": [
    {
     "data": {
      "text/plain": [
       "ShapiroResult(statistic=0.9543654918670654, pvalue=0.10722342133522034)"
      ]
     },
     "execution_count": 121,
     "metadata": {},
     "output_type": "execute_result"
    }
   ],
   "source": [
    "shapiro(AYRIK.ONCESI)"
   ]
  },
  {
   "cell_type": "markdown",
   "id": "interior-workstation",
   "metadata": {},
   "source": [
    "##### örnek dağılım ile teorik normal dağılım arasında fark yoktur diyordu..pvalue 0.05ten büyük olduğu için H0'ı reddedemiyoruz. elimizdeki örneğin dağılımı normaldir.\n"
   ]
  },
  {
   "cell_type": "code",
   "execution_count": 123,
   "id": "chicken-rough",
   "metadata": {},
   "outputs": [
    {
     "data": {
      "text/plain": [
       "ShapiroResult(statistic=0.9780087471008301, pvalue=0.6159457564353943)"
      ]
     },
     "execution_count": 123,
     "metadata": {},
     "output_type": "execute_result"
    }
   ],
   "source": [
    "shapiro(AYRIK.SONRASI)"
   ]
  },
  {
   "cell_type": "markdown",
   "id": "german-passport",
   "metadata": {},
   "source": [
    "##### örnek dağılım ile teorik normal dağılım arasında fark yoktur diyordu. ancak p value 0.05ten büyük olduğu için reddedemiyoruz."
   ]
  },
  {
   "cell_type": "code",
   "execution_count": 127,
   "id": "respected-accident",
   "metadata": {},
   "outputs": [
    {
     "data": {
      "text/plain": [
       "LeveneResult(statistic=8.31303288672351, pvalue=0.0050844511807370246)"
      ]
     },
     "execution_count": 127,
     "metadata": {},
     "output_type": "execute_result"
    }
   ],
   "source": [
    "import scipy.stats as stats\n",
    "stats.levene(AYRIK.ONCESI, AYRIK.SONRASI)"
   ]
  },
  {
   "cell_type": "markdown",
   "id": "statutory-toner",
   "metadata": {},
   "source": [
    "##### Birinci kouşl sağlandığı için ikinci teste yani varyans homojen hipotezine geçtik ve bu test varyanslar homojendir diyordu. pvalue 0.005ten büyük olduğu için bunu reddedebilirz. varyanslar homojen değil.\n",
    "##### **ŞİMDİ NE YAPACAĞIZ?**\n",
    "##### 1. Veri seti üzerindeki aykırılıklar düzeltilerek yeniden incelenebilir.\n",
    "##### 2. Bağımlı iki örneklem Ttestinde varyans homojenliği incelendiğinde bu varsayım sağlanmadığında bir miktar göz ardı edilebilir."
   ]
  },
  {
   "cell_type": "markdown",
   "id": "descending-profession",
   "metadata": {},
   "source": [
    "## Hipotez Testi (bağımlı iki örneklem Ttesti)"
   ]
  },
  {
   "cell_type": "code",
   "execution_count": 130,
   "id": "executed-bleeding",
   "metadata": {},
   "outputs": [
    {
     "data": {
      "text/plain": [
       "Ttest_relResult(statistic=-9.281533480429937, pvalue=2.0235251764440722e-11)"
      ]
     },
     "execution_count": 130,
     "metadata": {},
     "output_type": "execute_result"
    }
   ],
   "source": [
    "stats.ttest_rel(AYRIK.ONCESI, AYRIK.SONRASI)\n",
    "#YİNE E'Lİ DEĞER VAR BUNU GİDERMEK İÇİN AŞAĞIDAKİ DÜZENLEME KODUNU YAZABİLİRİZ."
   ]
  },
  {
   "cell_type": "code",
   "execution_count": 136,
   "id": "touched-candidate",
   "metadata": {},
   "outputs": [
    {
     "name": "stdout",
     "output_type": "stream",
     "text": [
      "Test İstatistiği : = -9.2815, p-değeri ) 0.0000\n"
     ]
    }
   ],
   "source": [
    "test_istatistigi, pvalue = stats.ttest_rel(AYRIK[\"ONCESI\"], AYRIK[\"SONRASI\"])\n",
    "print(\"Test İstatistiği : = %.4f, p-değeri ) %.4f\" % (test_istatistigi,pvalue))"
   ]
  },
  {
   "cell_type": "markdown",
   "id": "filled-hacker",
   "metadata": {},
   "source": [
    "### YORUMLAMA:"
   ]
  },
  {
   "cell_type": "markdown",
   "id": "available-greene",
   "metadata": {},
   "source": [
    "##### H0 : m1 = m2 Yeni eğitimin öncesi ve sonrası arasında bir fark omamıştır\n",
    "##### H1 : m1 != m2 Eğitim faydalı olmuştur arada bir fark oluşmuştur \n",
    "\n",
    "##### **H1 eğitim öncesi ve sonrası arasında anlamlı bir farklılık yoktu. pvalue 0.005'ten küçük olduğu için bu reddedilebir. Yani eğitim faydalı olmuştur.**"
   ]
  },
  {
   "cell_type": "markdown",
   "id": "ready-march",
   "metadata": {},
   "source": [
    "## Nonparametrik Bağımlı İki Örneklem Testi \n",
    "#### **(önceki iki test sağlanmadığında yapılır(zaten varyans homojenliği sağlanmamıştı, gözardı edilmişti))**"
   ]
  },
  {
   "cell_type": "code",
   "execution_count": 138,
   "id": "simplified-republic",
   "metadata": {},
   "outputs": [
    {
     "data": {
      "text/plain": [
       "WilcoxonResult(statistic=15.0, pvalue=2.491492033374464e-07)"
      ]
     },
     "execution_count": 138,
     "metadata": {},
     "output_type": "execute_result"
    }
   ],
   "source": [
    "stats.wilcoxon(AYRIK.ONCESI, AYRIK.SONRASI)"
   ]
  },
  {
   "cell_type": "code",
   "execution_count": 139,
   "id": "designed-divorce",
   "metadata": {},
   "outputs": [
    {
     "name": "stdout",
     "output_type": "stream",
     "text": [
      "Test İstatistiği : 15.0000 p-değeri : 0.0000\n"
     ]
    }
   ],
   "source": [
    "test_istatistigi, pvalue = stats.wilcoxon(AYRIK[\"ONCESI\"], AYRIK[\"SONRASI\"])\n",
    "print( \"Test İstatistiği : %.4f p-değeri : %.4f\" % (test_istatistigi, pvalue))"
   ]
  },
  {
   "cell_type": "markdown",
   "id": "characteristic-packaging",
   "metadata": {},
   "source": [
    "#### **nonparametrik bağımlı iki örneklem testine göre de arada anlamlı farklılık görünmektedir p value 0.05ten çok çok küçük olduğu için bunu söyleyebilirz. Hoo hipotezini reddedebiliriz. Verilen eğitim faydalı olmuştur**"
   ]
  },
  {
   "cell_type": "markdown",
   "id": "collected-setup",
   "metadata": {},
   "source": [
    "## İki Örneklem Oran Testi\n",
    "\n",
    "#### Önceki yaptıklarımız tek örneklem içindi. Bunda ise farklı örneklemler ve bunların arasındaki oran ile bu incelemeyi gerçekleştireceğiz. Öncekiler gib n(tekrar sayısının 30!dan büyük olması yeterli.\n",
    "#### Olası hioptezler aşağıdaki gibidir (Ztesti yapılır)\n",
    "-----------------\n",
    "### **H0 : P1=P2**                 \n",
    "### **H1 : P1 != P2**                \n",
    "\n",
    "\n",
    "-----------------\n",
    "\n",
    "\n",
    "### **H0 : P1 <= P2**\n",
    "### **H1 : P1 > P2** \n",
    "\n",
    "\n",
    "-----------------\n",
    "\n",
    "\n",
    "### **H0 : P1 >= P2**\n",
    "### **H1 : P1 < P2**\n",
    "\n",
    "-----------------\n",
    "\n",
    "#### aşağıdaki örnekte kırmızı ve yeşil butonların AB testine sokulması incelenmesi yapılmıştır. Bu deneyde yeşil buton için 1000 gözlemciden 300'ü, kırmızı buton için ise 1100 gözlemciden 250'si tıklama yapmıştır.\n",
    "#### n>30 olduğu için diğer testler yapılmasına gerek kalmamıştır. Bunun sonucunda ise görüldüğü üzere pvalue 0.05ten çok küçük çıktığı için H0 hipotezi yani P1=P2 hipotezi reddedilmiştir. Yani arlarında anlamlı bir fark vardır."
   ]
  },
  {
   "cell_type": "code",
   "execution_count": 19,
   "id": "expressed-olive",
   "metadata": {},
   "outputs": [],
   "source": [
    "from statsmodels.stats.proportion import proportions_ztest"
   ]
  },
  {
   "cell_type": "code",
   "execution_count": 20,
   "id": "atlantic-comment",
   "metadata": {},
   "outputs": [],
   "source": [
    "import numpy as np\n",
    "basari_sayisi = np.array([300, 250])\n",
    "gozlem_sayilari = np.array([1000, 1100])"
   ]
  },
  {
   "cell_type": "code",
   "execution_count": 22,
   "id": "responsible-avenue",
   "metadata": {},
   "outputs": [
    {
     "data": {
      "text/plain": [
       "(3.7857863233209255, 0.0001532232957772221)"
      ]
     },
     "execution_count": 22,
     "metadata": {},
     "output_type": "execute_result"
    }
   ],
   "source": [
    "proportions_ztest(count = basari_sayisi, nobs = gozlem_sayilari)"
   ]
  },
  {
   "cell_type": "markdown",
   "id": "offensive-thought",
   "metadata": {},
   "source": [
    "# Varyans Analizi\n",
    "\n",
    "### İki ya da daha fazla grup ortalaması arasında istatistiksel olarak anlamlı farklılık olmadığı öğrenilmek istediğinde kullanılır. "
   ]
  },
  {
   "cell_type": "markdown",
   "id": "absent-nurse",
   "metadata": {},
   "source": [
    "H0: M1 = M2 = M3 (grup ortalamalari arasinda ist anl. farklilik yoktur) \n",
    "\n",
    "H1: Fark vardir.\n",
    "\n",
    "##### **Varsayımlar :**\n",
    "#####    -Gözlemlerin birbirinden bağımsız olması(grupların)\n",
    "#####    -Normal dağılım\n",
    "#####    -Varyans homojenliği"
   ]
  },
  {
   "cell_type": "code",
   "execution_count": 24,
   "id": "mighty-ability",
   "metadata": {},
   "outputs": [
    {
     "data": {
      "text/html": [
       "<div>\n",
       "<style scoped>\n",
       "    .dataframe tbody tr th:only-of-type {\n",
       "        vertical-align: middle;\n",
       "    }\n",
       "\n",
       "    .dataframe tbody tr th {\n",
       "        vertical-align: top;\n",
       "    }\n",
       "\n",
       "    .dataframe thead th {\n",
       "        text-align: right;\n",
       "    }\n",
       "</style>\n",
       "<table border=\"1\" class=\"dataframe\">\n",
       "  <thead>\n",
       "    <tr style=\"text-align: right;\">\n",
       "      <th></th>\n",
       "      <th>GRUP_A</th>\n",
       "      <th>GRUP_B</th>\n",
       "      <th>GRUP_C</th>\n",
       "    </tr>\n",
       "  </thead>\n",
       "  <tbody>\n",
       "    <tr>\n",
       "      <th>0</th>\n",
       "      <td>28</td>\n",
       "      <td>31</td>\n",
       "      <td>40</td>\n",
       "    </tr>\n",
       "    <tr>\n",
       "      <th>1</th>\n",
       "      <td>33</td>\n",
       "      <td>32</td>\n",
       "      <td>33</td>\n",
       "    </tr>\n",
       "    <tr>\n",
       "      <th>2</th>\n",
       "      <td>30</td>\n",
       "      <td>30</td>\n",
       "      <td>38</td>\n",
       "    </tr>\n",
       "    <tr>\n",
       "      <th>3</th>\n",
       "      <td>29</td>\n",
       "      <td>30</td>\n",
       "      <td>41</td>\n",
       "    </tr>\n",
       "    <tr>\n",
       "      <th>4</th>\n",
       "      <td>28</td>\n",
       "      <td>33</td>\n",
       "      <td>42</td>\n",
       "    </tr>\n",
       "  </tbody>\n",
       "</table>\n",
       "</div>"
      ],
      "text/plain": [
       "   GRUP_A  GRUP_B  GRUP_C\n",
       "0      28      31      40\n",
       "1      33      32      33\n",
       "2      30      30      38\n",
       "3      29      30      41\n",
       "4      28      33      42"
      ]
     },
     "execution_count": 24,
     "metadata": {},
     "output_type": "execute_result"
    }
   ],
   "source": [
    "A = pd.DataFrame([28,33,30,29,28,29,27,31,30,32,28,33,25,29,27,31,31,30,31,34,30,32,31,34,28,32,31,28,33,29])\n",
    "\n",
    "B = pd.DataFrame([31,32,30,30,33,32,34,27,36,30,31,30,38,29,30,34,34,31,35,35,33,30,28,29,26,37,31,28,34,33])\n",
    "\n",
    "C = pd.DataFrame([40,33,38,41,42,43,38,35,39,39,36,34,35,40,38,36,39,36,33,35,38,35,40,40,39,38,38,43,40,42])\n",
    "\n",
    "dfs = [A, B, C]\n",
    "\n",
    "ABC = pd.concat(dfs, axis = 1)\n",
    "ABC.columns = [\"GRUP_A\",\"GRUP_B\",\"GRUP_C\"]\n",
    "ABC.head()"
   ]
  },
  {
   "cell_type": "markdown",
   "id": "documented-project",
   "metadata": {},
   "source": [
    "## Varsayım Kontrolü\n",
    "\n",
    "#### Gerekli varsayımlar sağlanıyor mu bunu kontrol ediyoruz. \n",
    "#### -Normallik testi **SHAPIRO**\n",
    "#### -Varyans dağılım testi için **LEVENE**\n",
    "#### -Hipotez testi için **ONEWAY**\n",
    "### YUKARDAKİ TESTLER SAĞLANMASAYDI :\n",
    "#### -Nonparametrik Hipotez Testi için **KRUSKAL**"
   ]
  },
  {
   "cell_type": "code",
   "execution_count": 25,
   "id": "peripheral-geometry",
   "metadata": {},
   "outputs": [],
   "source": [
    "from scipy.stats import shapiro"
   ]
  },
  {
   "cell_type": "code",
   "execution_count": 26,
   "id": "operating-preference",
   "metadata": {},
   "outputs": [
    {
     "data": {
      "text/plain": [
       "(0.9697431921958923, 0.5321715474128723)"
      ]
     },
     "execution_count": 26,
     "metadata": {},
     "output_type": "execute_result"
    }
   ],
   "source": [
    "shapiro(ABC[\"GRUP_A\"])"
   ]
  },
  {
   "cell_type": "code",
   "execution_count": 27,
   "id": "minute-demand",
   "metadata": {},
   "outputs": [
    {
     "data": {
      "text/plain": [
       "(0.9789854884147644, 0.7979801297187805)"
      ]
     },
     "execution_count": 27,
     "metadata": {},
     "output_type": "execute_result"
    }
   ],
   "source": [
    "shapiro(ABC[\"GRUP_B\"])"
   ]
  },
  {
   "cell_type": "code",
   "execution_count": 28,
   "id": "voluntary-arbor",
   "metadata": {},
   "outputs": [
    {
     "data": {
      "text/plain": [
       "(0.9579201340675354, 0.273820161819458)"
      ]
     },
     "execution_count": 28,
     "metadata": {},
     "output_type": "execute_result"
    }
   ],
   "source": [
    "shapiro(ABC[\"GRUP_C\"])"
   ]
  },
  {
   "cell_type": "code",
   "execution_count": 29,
   "id": "bored-isolation",
   "metadata": {},
   "outputs": [
    {
     "data": {
      "text/plain": [
       "LeveneResult(statistic=1.0267403645055275, pvalue=0.36247110117417064)"
      ]
     },
     "execution_count": 29,
     "metadata": {},
     "output_type": "execute_result"
    }
   ],
   "source": [
    "stats.levene(ABC[\"GRUP_A\"], ABC[\"GRUP_B\"],ABC[\"GRUP_C\"])"
   ]
  },
  {
   "cell_type": "markdown",
   "id": "military-warning",
   "metadata": {},
   "source": [
    "## Hipotez Testi"
   ]
  },
  {
   "cell_type": "code",
   "execution_count": 32,
   "id": "selected-exception",
   "metadata": {},
   "outputs": [],
   "source": [
    "from scipy.stats import f_oneway"
   ]
  },
  {
   "cell_type": "code",
   "execution_count": 33,
   "id": "distributed-climate",
   "metadata": {},
   "outputs": [
    {
     "data": {
      "text/plain": [
       "F_onewayResult(statistic=74.69278140730431, pvalue=1.3079050746811477e-19)"
      ]
     },
     "execution_count": 33,
     "metadata": {},
     "output_type": "execute_result"
    }
   ],
   "source": [
    "f_oneway(ABC[\"GRUP_A\"], ABC[\"GRUP_B\"],ABC[\"GRUP_C\"])"
   ]
  },
  {
   "cell_type": "code",
   "execution_count": 34,
   "id": "raising-speaker",
   "metadata": {},
   "outputs": [
    {
     "name": "stdout",
     "output_type": "stream",
     "text": [
      "0.00000\n"
     ]
    }
   ],
   "source": [
    "print('{:.5f}'.format(f_oneway(ABC[\"GRUP_A\"], ABC[\"GRUP_B\"],ABC[\"GRUP_C\"])[1]))"
   ]
  },
  {
   "cell_type": "code",
   "execution_count": 36,
   "id": "novel-observation",
   "metadata": {},
   "outputs": [
    {
     "data": {
      "text/html": [
       "<div>\n",
       "<style scoped>\n",
       "    .dataframe tbody tr th:only-of-type {\n",
       "        vertical-align: middle;\n",
       "    }\n",
       "\n",
       "    .dataframe tbody tr th {\n",
       "        vertical-align: top;\n",
       "    }\n",
       "\n",
       "    .dataframe thead th {\n",
       "        text-align: right;\n",
       "    }\n",
       "</style>\n",
       "<table border=\"1\" class=\"dataframe\">\n",
       "  <thead>\n",
       "    <tr style=\"text-align: right;\">\n",
       "      <th></th>\n",
       "      <th>count</th>\n",
       "      <th>mean</th>\n",
       "      <th>std</th>\n",
       "      <th>min</th>\n",
       "      <th>25%</th>\n",
       "      <th>50%</th>\n",
       "      <th>75%</th>\n",
       "      <th>max</th>\n",
       "    </tr>\n",
       "  </thead>\n",
       "  <tbody>\n",
       "    <tr>\n",
       "      <th>GRUP_A</th>\n",
       "      <td>30.0</td>\n",
       "      <td>30.133333</td>\n",
       "      <td>2.224214</td>\n",
       "      <td>25.0</td>\n",
       "      <td>28.25</td>\n",
       "      <td>30.0</td>\n",
       "      <td>31.75</td>\n",
       "      <td>34.0</td>\n",
       "    </tr>\n",
       "    <tr>\n",
       "      <th>GRUP_B</th>\n",
       "      <td>30.0</td>\n",
       "      <td>31.700000</td>\n",
       "      <td>2.937862</td>\n",
       "      <td>26.0</td>\n",
       "      <td>30.00</td>\n",
       "      <td>31.0</td>\n",
       "      <td>34.00</td>\n",
       "      <td>38.0</td>\n",
       "    </tr>\n",
       "    <tr>\n",
       "      <th>GRUP_C</th>\n",
       "      <td>30.0</td>\n",
       "      <td>38.100000</td>\n",
       "      <td>2.808239</td>\n",
       "      <td>33.0</td>\n",
       "      <td>36.00</td>\n",
       "      <td>38.0</td>\n",
       "      <td>40.00</td>\n",
       "      <td>43.0</td>\n",
       "    </tr>\n",
       "  </tbody>\n",
       "</table>\n",
       "</div>"
      ],
      "text/plain": [
       "        count       mean       std   min    25%   50%    75%   max\n",
       "GRUP_A   30.0  30.133333  2.224214  25.0  28.25  30.0  31.75  34.0\n",
       "GRUP_B   30.0  31.700000  2.937862  26.0  30.00  31.0  34.00  38.0\n",
       "GRUP_C   30.0  38.100000  2.808239  33.0  36.00  38.0  40.00  43.0"
      ]
     },
     "execution_count": 36,
     "metadata": {},
     "output_type": "execute_result"
    }
   ],
   "source": [
    "ABC.describe().T"
   ]
  },
  {
   "cell_type": "markdown",
   "id": "direct-young",
   "metadata": {},
   "source": [
    "## Nonparametrik Hipotez Testi"
   ]
  },
  {
   "cell_type": "code",
   "execution_count": 39,
   "id": "distributed-catalyst",
   "metadata": {},
   "outputs": [],
   "source": [
    "from scipy.stats import kruskal"
   ]
  },
  {
   "cell_type": "code",
   "execution_count": 40,
   "id": "indie-tulsa",
   "metadata": {},
   "outputs": [
    {
     "data": {
      "text/plain": [
       "KruskalResult(statistic=54.19819735523783, pvalue=1.7022015426175926e-12)"
      ]
     },
     "execution_count": 40,
     "metadata": {},
     "output_type": "execute_result"
    }
   ],
   "source": [
    "kruskal(ABC[\"GRUP_A\"], ABC[\"GRUP_B\"],ABC[\"GRUP_C\"])"
   ]
  },
  {
   "cell_type": "markdown",
   "id": "alien-coffee",
   "metadata": {},
   "source": [
    "## Korelasyon Analizi\n",
    "\n",
    "### **Değişkenler arasındaki ilişki, bu ilişkinin yönü ve şiddeti ile ilgili bilgiler sağlayan istatistiksel bir yöntemdir.**\n",
    "##### **önceki sistemle aynı pvalue kısmındaki değerlendirmelere bakılıyor**\n",
    "##### **burda dikkat edilen Ro değeri var H0 : p = (değişkenler arasında ilişki yoktur 0  ve H1 : p =!0 (değişkenler arasına anlamlı ilişki vardır.**\n",
    "##### **pvalue değeri 0.05'ten küçük olup H0'ı reddedip korelasyon analizinde değişkenler arasında bir ilişki vardır diyebilmeyi bekleriz**\n",
    "##### 1-0.9-0.5-0-(-0.5)-(0.9)-(-1) bu değerler sırasıyla\n",
    "##### Mükemmel pozitif korelasyon 1\n",
    "##### Yüksek pozitif korelasyon 0.9\n",
    "##### Düşük pozitif korelasyon 0.5\n",
    "##### Korelasyon yok 0\n",
    "##### Düşük negatif korelasyon -0.5\n",
    "##### Yüksek neagtif korelasyon -0.9\n",
    "##### Mükemmel negatif korelasyon -1  olarak bilinir\n",
    "\n",
    "\n",
    "### **Böylece parametreler arası korelasyonunu yönü ve şiddeti hakkında yorum yapılmış olur. 1 ve -1'e yaklaştıkça şiddet artar 0'a yaklaştıka korelasyon azalır.**\n",
    "--------------------------------------"
   ]
  },
  {
   "cell_type": "markdown",
   "id": "convenient-institute",
   "metadata": {},
   "source": [
    "Bahşiş veri seti:\n",
    "\n",
    "total_bill: yemeğin toplam fiyatı (bahşiş ve vergi dahil)\n",
    "\n",
    "tip: bahşiş\n",
    "\n",
    "sex: ücreti ödeyen kişinin cinsiyeti (0=male, 1=female)\n",
    "\n",
    "smoker: grupta sigara içen var mı? (0=No, 1=Yes)\n",
    "\n",
    "day: gün (3=Thur, 4=Fri, 5=Sat, 6=Sun)\n",
    "\n",
    "time: ne zaman? (0=Day, 1=Night)\n",
    "\n",
    "size: grupta kaç kişi var?"
   ]
  },
  {
   "cell_type": "code",
   "execution_count": 145,
   "id": "accredited-arcade",
   "metadata": {},
   "outputs": [
    {
     "data": {
      "text/html": [
       "<div>\n",
       "<style scoped>\n",
       "    .dataframe tbody tr th:only-of-type {\n",
       "        vertical-align: middle;\n",
       "    }\n",
       "\n",
       "    .dataframe tbody tr th {\n",
       "        vertical-align: top;\n",
       "    }\n",
       "\n",
       "    .dataframe thead th {\n",
       "        text-align: right;\n",
       "    }\n",
       "</style>\n",
       "<table border=\"1\" class=\"dataframe\">\n",
       "  <thead>\n",
       "    <tr style=\"text-align: right;\">\n",
       "      <th></th>\n",
       "      <th>total_bill</th>\n",
       "      <th>tip</th>\n",
       "      <th>sex</th>\n",
       "      <th>smoker</th>\n",
       "      <th>day</th>\n",
       "      <th>time</th>\n",
       "      <th>size</th>\n",
       "    </tr>\n",
       "  </thead>\n",
       "  <tbody>\n",
       "    <tr>\n",
       "      <th>0</th>\n",
       "      <td>16.99</td>\n",
       "      <td>1.01</td>\n",
       "      <td>Female</td>\n",
       "      <td>No</td>\n",
       "      <td>Sun</td>\n",
       "      <td>Dinner</td>\n",
       "      <td>2</td>\n",
       "    </tr>\n",
       "    <tr>\n",
       "      <th>1</th>\n",
       "      <td>10.34</td>\n",
       "      <td>1.66</td>\n",
       "      <td>Male</td>\n",
       "      <td>No</td>\n",
       "      <td>Sun</td>\n",
       "      <td>Dinner</td>\n",
       "      <td>3</td>\n",
       "    </tr>\n",
       "    <tr>\n",
       "      <th>2</th>\n",
       "      <td>21.01</td>\n",
       "      <td>3.50</td>\n",
       "      <td>Male</td>\n",
       "      <td>No</td>\n",
       "      <td>Sun</td>\n",
       "      <td>Dinner</td>\n",
       "      <td>3</td>\n",
       "    </tr>\n",
       "    <tr>\n",
       "      <th>3</th>\n",
       "      <td>23.68</td>\n",
       "      <td>3.31</td>\n",
       "      <td>Male</td>\n",
       "      <td>No</td>\n",
       "      <td>Sun</td>\n",
       "      <td>Dinner</td>\n",
       "      <td>2</td>\n",
       "    </tr>\n",
       "    <tr>\n",
       "      <th>4</th>\n",
       "      <td>24.59</td>\n",
       "      <td>3.61</td>\n",
       "      <td>Female</td>\n",
       "      <td>No</td>\n",
       "      <td>Sun</td>\n",
       "      <td>Dinner</td>\n",
       "      <td>4</td>\n",
       "    </tr>\n",
       "  </tbody>\n",
       "</table>\n",
       "</div>"
      ],
      "text/plain": [
       "   total_bill   tip     sex smoker  day    time  size\n",
       "0       16.99  1.01  Female     No  Sun  Dinner     2\n",
       "1       10.34  1.66    Male     No  Sun  Dinner     3\n",
       "2       21.01  3.50    Male     No  Sun  Dinner     3\n",
       "3       23.68  3.31    Male     No  Sun  Dinner     2\n",
       "4       24.59  3.61  Female     No  Sun  Dinner     4"
      ]
     },
     "execution_count": 145,
     "metadata": {},
     "output_type": "execute_result"
    }
   ],
   "source": [
    "import seaborn as sns\n",
    "tips = sns.load_dataset('tips')\n",
    "df = tips.copy()\n",
    "df.head()"
   ]
  },
  {
   "cell_type": "code",
   "execution_count": 146,
   "id": "weighted-laser",
   "metadata": {},
   "outputs": [],
   "source": [
    "df[\"total_bill\"] = df[\"total_bill\"] - df[\"tip\"]"
   ]
  },
  {
   "cell_type": "code",
   "execution_count": 141,
   "id": "clean-waterproof",
   "metadata": {},
   "outputs": [],
   "source": [
    "# burda yaptığımız şey veri setinde toplam hesabın içinde bahşişin  de dahil olduğunu belirtmiş bu bahşişleri toplam fiyattan çıkardık ki doğru şekilde inceleyebilelim."
   ]
  },
  {
   "cell_type": "code",
   "execution_count": 147,
   "id": "efficient-spine",
   "metadata": {},
   "outputs": [
    {
     "data": {
      "text/html": [
       "<div>\n",
       "<style scoped>\n",
       "    .dataframe tbody tr th:only-of-type {\n",
       "        vertical-align: middle;\n",
       "    }\n",
       "\n",
       "    .dataframe tbody tr th {\n",
       "        vertical-align: top;\n",
       "    }\n",
       "\n",
       "    .dataframe thead th {\n",
       "        text-align: right;\n",
       "    }\n",
       "</style>\n",
       "<table border=\"1\" class=\"dataframe\">\n",
       "  <thead>\n",
       "    <tr style=\"text-align: right;\">\n",
       "      <th></th>\n",
       "      <th>total_bill</th>\n",
       "      <th>tip</th>\n",
       "      <th>sex</th>\n",
       "      <th>smoker</th>\n",
       "      <th>day</th>\n",
       "      <th>time</th>\n",
       "      <th>size</th>\n",
       "    </tr>\n",
       "  </thead>\n",
       "  <tbody>\n",
       "    <tr>\n",
       "      <th>0</th>\n",
       "      <td>15.98</td>\n",
       "      <td>1.01</td>\n",
       "      <td>Female</td>\n",
       "      <td>No</td>\n",
       "      <td>Sun</td>\n",
       "      <td>Dinner</td>\n",
       "      <td>2</td>\n",
       "    </tr>\n",
       "    <tr>\n",
       "      <th>1</th>\n",
       "      <td>8.68</td>\n",
       "      <td>1.66</td>\n",
       "      <td>Male</td>\n",
       "      <td>No</td>\n",
       "      <td>Sun</td>\n",
       "      <td>Dinner</td>\n",
       "      <td>3</td>\n",
       "    </tr>\n",
       "    <tr>\n",
       "      <th>2</th>\n",
       "      <td>17.51</td>\n",
       "      <td>3.50</td>\n",
       "      <td>Male</td>\n",
       "      <td>No</td>\n",
       "      <td>Sun</td>\n",
       "      <td>Dinner</td>\n",
       "      <td>3</td>\n",
       "    </tr>\n",
       "    <tr>\n",
       "      <th>3</th>\n",
       "      <td>20.37</td>\n",
       "      <td>3.31</td>\n",
       "      <td>Male</td>\n",
       "      <td>No</td>\n",
       "      <td>Sun</td>\n",
       "      <td>Dinner</td>\n",
       "      <td>2</td>\n",
       "    </tr>\n",
       "    <tr>\n",
       "      <th>4</th>\n",
       "      <td>20.98</td>\n",
       "      <td>3.61</td>\n",
       "      <td>Female</td>\n",
       "      <td>No</td>\n",
       "      <td>Sun</td>\n",
       "      <td>Dinner</td>\n",
       "      <td>4</td>\n",
       "    </tr>\n",
       "  </tbody>\n",
       "</table>\n",
       "</div>"
      ],
      "text/plain": [
       "   total_bill   tip     sex smoker  day    time  size\n",
       "0       15.98  1.01  Female     No  Sun  Dinner     2\n",
       "1        8.68  1.66    Male     No  Sun  Dinner     3\n",
       "2       17.51  3.50    Male     No  Sun  Dinner     3\n",
       "3       20.37  3.31    Male     No  Sun  Dinner     2\n",
       "4       20.98  3.61  Female     No  Sun  Dinner     4"
      ]
     },
     "execution_count": 147,
     "metadata": {},
     "output_type": "execute_result"
    }
   ],
   "source": [
    "df.head()"
   ]
  },
  {
   "cell_type": "code",
   "execution_count": 5,
   "id": "recent-night",
   "metadata": {},
   "outputs": [
    {
     "data": {
      "image/png": "[encoded data removed]",
      "text/plain": [
       "<Figure size 432x288 with 1 Axes>"
      ]
     },
     "metadata": {
      "needs_background": "light"
     },
     "output_type": "display_data"
    }
   ],
   "source": [
    "df.plot.scatter(\"tip\",\"total_bill\");"
   ]
  },
  {
   "cell_type": "markdown",
   "id": "worldwide-indianapolis",
   "metadata": {},
   "source": [
    "# Varsayım Kontrolü"
   ]
  },
  {
   "cell_type": "code",
   "execution_count": 148,
   "id": "august-thought",
   "metadata": {},
   "outputs": [],
   "source": [
    "from scipy.stats import shapiro"
   ]
  },
  {
   "cell_type": "code",
   "execution_count": 149,
   "id": "amateur-replacement",
   "metadata": {},
   "outputs": [
    {
     "name": "stdout",
     "output_type": "stream",
     "text": [
      "Test İstatistiği = 0.8978, p-değeri = 0.0000\n",
      "Test İstatistiği = 0.9136, p-değeri = 0.0000\n"
     ]
    }
   ],
   "source": [
    "test_istatistigi, pvalue = shapiro(df[\"tip\"])\n",
    "print('Test İstatistiği = %.4f, p-değeri = %.4f' % (test_istatistigi, pvalue))\n",
    "\n",
    "test_istatistigi, pvalue = shapiro(df[\"total_bill\"])\n",
    "print('Test İstatistiği = %.4f, p-değeri = %.4f' % (test_istatistigi, pvalue))"
   ]
  },
  {
   "cell_type": "markdown",
   "id": "stainless-stuff",
   "metadata": {},
   "source": [
    "##### pvalue değeri 0.05ten düşük olduğu için H0 reddedildi. Bu da örnek dağılım ile teorik normal dağılım arasında fark yoktur diyordu. Yani fark var diyoruz."
   ]
  },
  {
   "cell_type": "markdown",
   "id": "respiratory-remedy",
   "metadata": {},
   "source": [
    "# Hipotez Testi"
   ]
  },
  {
   "cell_type": "markdown",
   "id": "completed-topic",
   "metadata": {},
   "source": [
    "### Korelasyon Katsayısı"
   ]
  },
  {
   "cell_type": "code",
   "execution_count": 157,
   "id": "exclusive-charm",
   "metadata": {},
   "outputs": [
    {
     "data": {
      "text/plain": [
       "0.5766634471096374"
      ]
     },
     "execution_count": 157,
     "metadata": {},
     "output_type": "execute_result"
    }
   ],
   "source": [
    "df[\"tip\"].corr(df[\"total_bill\"])\n",
    "# otomatik olarak pearson korelasyon kat sayısını alır ancak pearson sadece normal dağılım \n",
    "# varsayımının geçerli olduğu örneklerde kullanılır ki bu örnek normal dağılım kontrolünü geçememişti aksi durumlarda ise spearman korelasyon katsayısı kullanılır\n",
    "# İçine spearman yazarak doğru korelasyon katsayısına ulaşabiliriz."
   ]
  },
  {
   "cell_type": "code",
   "execution_count": 151,
   "id": "spread-wagon",
   "metadata": {},
   "outputs": [
    {
     "data": {
      "text/plain": [
       "0.593691939408997"
      ]
     },
     "execution_count": 151,
     "metadata": {},
     "output_type": "execute_result"
    }
   ],
   "source": [
    "df[\"tip\"].corr(df[\"total_bill\"], method = \"spearman\")"
   ]
  },
  {
   "cell_type": "code",
   "execution_count": null,
   "id": "turned-xerox",
   "metadata": {},
   "outputs": [],
   "source": [
    "# yukardaki çıkan 0.60 civarındaki kat sayıların anlamlı olup olmadığına bakmadan yorumlarsak 0.5 civarında olduğundan ve + olduğundan\n",
    "# diyebiliriz ki orta şiddetli pozitif yönlü bir ilişki var."
   ]
  },
  {
   "cell_type": "markdown",
   "id": "tender-royal",
   "metadata": {},
   "source": [
    "### Korelasyonunu Anlamlılığının Testi"
   ]
  },
  {
   "cell_type": "code",
   "execution_count": 152,
   "id": "swedish-incident",
   "metadata": {},
   "outputs": [],
   "source": [
    "from scipy.stats.stats import pearsonr"
   ]
  },
  {
   "cell_type": "code",
   "execution_count": 153,
   "id": "entertaining-marker",
   "metadata": {},
   "outputs": [
    {
     "name": "stdout",
     "output_type": "stream",
     "text": [
      "Korelasyon Katsayısı = 0.5767, p-değeri = 0.0000\n"
     ]
    }
   ],
   "source": [
    "test_istatistigi, pvalue = pearsonr(df[\"tip\"],df[\"total_bill\"])\n",
    "\n",
    "print('Korelasyon Katsayısı = %.4f, p-değeri = %.4f' % (test_istatistigi, pvalue))"
   ]
  },
  {
   "cell_type": "markdown",
   "id": "aerial-colonial",
   "metadata": {},
   "source": [
    "## Nonparametrik Hipotez Testi"
   ]
  },
  {
   "cell_type": "code",
   "execution_count": 154,
   "id": "instrumental-phone",
   "metadata": {},
   "outputs": [
    {
     "data": {
      "text/plain": [
       "SpearmanrResult(correlation=0.593691939408997, pvalue=1.2452285137560276e-24)"
      ]
     },
     "execution_count": 154,
     "metadata": {},
     "output_type": "execute_result"
    }
   ],
   "source": [
    "from scipy.stats import stats\n",
    "stats.spearmanr(df[\"tip\"],df[\"total_bill\"])"
   ]
  },
  {
   "cell_type": "code",
   "execution_count": 155,
   "id": "fantastic-moscow",
   "metadata": {},
   "outputs": [
    {
     "name": "stdout",
     "output_type": "stream",
     "text": [
      "Korelasyon Katsayısı = 0.5937, p-değeri = 0.0000\n"
     ]
    }
   ],
   "source": [
    "test_istatistigi, pvalue = stats.spearmanr(df[\"tip\"],df[\"total_bill\"])\n",
    "\n",
    "print('Korelasyon Katsayısı = %.4f, p-değeri = %.4f' % (test_istatistigi, pvalue))"
   ]
  },
  {
   "cell_type": "code",
   "execution_count": null,
   "id": "appointed-appeal",
   "metadata": {},
   "outputs": [],
   "source": [
    "### yukardaki p değeri 0.05'ten küçük yine ve diyoruz ki H0 hipotezi reddedilir. Yani arlarında bir ilişki olmadğını söyleyen hipotez reddedildi.\n",
    "#orta şiddetli pozitif yönlü bir ilişki olduğunu söyleyebiliriz."
   ]
  },
  {
   "cell_type": "code",
   "execution_count": 156,
   "id": "adjacent-bulgaria",
   "metadata": {},
   "outputs": [
    {
     "name": "stdout",
     "output_type": "stream",
     "text": [
      "Korelasyon Katsayısı = 0.4401, p-değeri = 0.0000\n"
     ]
    }
   ],
   "source": [
    "test_istatistigi, pvalue = stats.kendalltau(df[\"tip\"],df[\"total_bill\"])\n",
    "\n",
    "print('Korelasyon Katsayısı = %.4f, p-değeri = %.4f' % (test_istatistigi, pvalue))"
   ]
  },
  {
   "cell_type": "markdown",
   "id": "transsexual-cancer",
   "metadata": {},
   "source": [
    "##### yukarda görüldüğü üzere kendalltau korelasyon katsayısı da uygulanabilir spearman yerine ancak bu daha kontrollü bir katsayıdır çıkan korelasyon değeri 0.44 çıktı yani ortalamadan daha düşük. spearmanda 0.60 civarında pearson da 0.55 civarında çıkmıştı\n",
    "#### BİZİM İÇİN NORMAL DAĞILIM(pearson)  SAĞLANMADIĞINDA EN GÜVENİLİR SONUCU SPEARMAN VERİR."
   ]
  },
  {
   "cell_type": "code",
   "execution_count": null,
   "id": "pacific-impression",
   "metadata": {},
   "outputs": [],
   "source": []
  }
 ],
 "metadata": {
  "kernelspec": {
   "display_name": "Python 3",
   "language": "python",
   "name": "python3"
  },
  "language_info": {
   "codemirror_mode": {
    "name": "ipython",
    "version": 3
   },
   "file_extension": ".py",
   "mimetype": "text/x-python",
   "name": "python",
   "nbconvert_exporter": "python",
   "pygments_lexer": "ipython3",
   "version": "3.7.9"
  }
 },
 "nbformat": 4,
 "nbformat_minor": 5
}
